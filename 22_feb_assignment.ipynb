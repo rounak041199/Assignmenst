{
 "cells": [
  {
   "cell_type": "markdown",
   "id": "5e48f1da",
   "metadata": {},
   "source": [
    "Q1. Create a Pandas Series that contains the following data: 4, 8, 15, 16, 23, and 42. Then, print the series."
   ]
  },
  {
   "cell_type": "code",
   "execution_count": 1,
   "id": "dc97937e",
   "metadata": {},
   "outputs": [
    {
     "name": "stdout",
     "output_type": "stream",
     "text": [
      "0     4\n",
      "1     8\n",
      "2    15\n",
      "3    16\n",
      "4    23\n",
      "5    42\n",
      "dtype: int64\n"
     ]
    }
   ],
   "source": [
    "import pandas as pd\n",
    "data = [4,8,15,16,23,42]\n",
    "my_series = pd.Series(data)\n",
    "print(my_series)"
   ]
  },
  {
   "cell_type": "markdown",
   "id": "e9502c4f",
   "metadata": {},
   "source": [
    "Q2. Create a variable of list type containing 10 elements in it, and apply pandas.Series function on the\n",
    "variable print it."
   ]
  },
  {
   "cell_type": "code",
   "execution_count": 2,
   "id": "757ffd11",
   "metadata": {},
   "outputs": [
    {
     "name": "stdout",
     "output_type": "stream",
     "text": [
      "0     1\n",
      "1     2\n",
      "2     3\n",
      "3     4\n",
      "4     5\n",
      "5     6\n",
      "6     7\n",
      "7     8\n",
      "8     9\n",
      "9    10\n",
      "dtype: int64\n"
     ]
    }
   ],
   "source": [
    "import pandas as pa\n",
    "list1 = [1,2,3,4,5,6,7,8,9,10]\n",
    "my_series = pd.Series(list1)\n",
    "print(my_series)"
   ]
  },
  {
   "cell_type": "markdown",
   "id": "f46b8f88",
   "metadata": {},
   "source": [
    "Q3.Create a Pandas DataFrame that contains the following data:"
   ]
  },
  {
   "attachments": {},
   "cell_type": "markdown",
   "id": "fa93784d",
   "metadata": {},
   "source": [
    "Name\tAge\tGender\n",
    "Alice\t25\tFemale\n",
    "Bob\t30\tMale\n",
    "Claire\t27\tFemale\n"
   ]
  },
  {
   "cell_type": "code",
   "execution_count": 7,
   "id": "22c9c7de",
   "metadata": {},
   "outputs": [
    {
     "name": "stdout",
     "output_type": "stream",
     "text": [
      "     Name  Age  Gender\n",
      "0   Alice   25  Female\n",
      "1     Bob   30    Male\n",
      "2  Claire   37  Female\n"
     ]
    }
   ],
   "source": [
    "import pandas as pd\n",
    "data = {\n",
    "     \"Name\" : [\"Alice\",\"Bob\",\"Claire\"],\n",
    "     \"Age\"  : [25,30,37],\n",
    "     \"Gender\":[\"Female\",\"Male\",\"Female\"]\n",
    " }\n",
    " \n",
    "\n",
    "my_df = pd.DataFrame(data)\n",
    "print(my_df)\n"
   ]
  },
  {
   "cell_type": "markdown",
   "id": "88dc8e58",
   "metadata": {},
   "source": [
    "Q4. What is ‘DataFrame’ in pandas and how is it different from pandas.series? Explain with an example."
   ]
  },
  {
   "cell_type": "markdown",
   "id": "8c1105a5",
   "metadata": {},
   "source": [
    "In Pandas, a DataFrame is a two-dimensional labeled data structure that is used to store and manipulate tabular data."
   ]
  },
  {
   "cell_type": "markdown",
   "id": "945409b4",
   "metadata": {},
   "source": [
    "On the other hand, a Pandas Series is a one-dimensional labeled array that can hold data of any type. "
   ]
  },
  {
   "cell_type": "markdown",
   "id": "c17af15b",
   "metadata": {},
   "source": [
    "Example:\n"
   ]
  },
  {
   "cell_type": "code",
   "execution_count": 11,
   "id": "6da06f93",
   "metadata": {},
   "outputs": [
    {
     "name": "stdout",
     "output_type": "stream",
     "text": [
      "     Name  Age\n",
      "0   Alice   25\n",
      "1     Bob   30\n",
      "2  Claire   37\n",
      "0     Alice\n",
      "1       Bob\n",
      "2    Claire\n",
      "Name: Name, dtype: object\n"
     ]
    }
   ],
   "source": [
    "import pandas as pd\n",
    "\n",
    "data = {\n",
    "     \"Name\" : [\"Alice\",\"Bob\",\"Claire\"],\n",
    "     \"Age\"  : [25,30,37]\n",
    "}\n",
    "\n",
    "my_df = pd.DataFrame(data)\n",
    "print(my_df)\n",
    "# Create a Series for the Name column\n",
    "my_series = my_df['Name']\n",
    "print(my_series)"
   ]
  },
  {
   "cell_type": "markdown",
   "id": "df5aea15",
   "metadata": {},
   "source": [
    "Q5. What are some common functions you can use to manipulate data in a Pandas DataFrame? Can\n",
    "you give an example of when you might use one of these functions?"
   ]
  },
  {
   "cell_type": "markdown",
   "id": "52c29b9e",
   "metadata": {},
   "source": [
    "Some common functions that are used to manipulate data in Pandas DataFrame are head(),tail(),describe(),dropna(),groupby(),sort_values()"
   ]
  },
  {
   "cell_type": "code",
   "execution_count": 13,
   "id": "7b0dc84c",
   "metadata": {},
   "outputs": [
    {
     "name": "stdout",
     "output_type": "stream",
     "text": [
      "         Slaes\n",
      "Country       \n",
      "Germany    420\n",
      "India      500\n",
      "USA        350\n"
     ]
    }
   ],
   "source": [
    "import pandas as pd\n",
    "\n",
    "data ={\n",
    "    \"Country\":[\"India\",\"USA\",\"Germany\",\"India\",\"Germany\",\"India\"],\n",
    "    \"Slaes\"  :[100,350,300,100,120,300]\n",
    "}\n",
    "\n",
    "df = pd.DataFrame(data)\n",
    "\n",
    "grouped = df.groupby('Country').sum()\n",
    "print(grouped)"
   ]
  },
  {
   "cell_type": "markdown",
   "id": "95043787",
   "metadata": {},
   "source": [
    "Q6. Which of the following is mutable in nature Series, DataFrame, Panel?\n"
   ]
  },
  {
   "cell_type": "markdown",
   "id": "92ba96c7",
   "metadata": {},
   "source": [
    "In Pandas, both Series and DataFrame are mutable, which means that their values can be changed after they are created. Panel, on the other hand, is a 3D data structure that is deprecated since version 1.0.0, so it is not relevant anymore."
   ]
  },
  {
   "cell_type": "markdown",
   "id": "bfe4b6c2",
   "metadata": {},
   "source": [
    "Q7. Create a DataFrame using multiple Series. Explain with an example."
   ]
  },
  {
   "cell_type": "code",
   "execution_count": 15,
   "id": "b323539f",
   "metadata": {},
   "outputs": [
    {
     "name": "stdout",
     "output_type": "stream",
     "text": [
      "    Names  Age  Gender\n",
      "0   Alice   25  Female\n",
      "1     Bob   30    Male\n",
      "2  Claire   37  Female\n"
     ]
    }
   ],
   "source": [
    "import pandas as pd\n",
    "\n",
    "names = pd.Series([\"Alice\",\"Bob\",\"Claire\"])\n",
    "ages  = pd.Series([25,30,37])\n",
    "gender=pd.Series([\"Female\",\"Male\",\"Female\"])\n",
    "\n",
    "data= {\n",
    "    \"Names\":names,\n",
    "    \"Age\"  :ages,\n",
    "    \"Gender\":gender\n",
    "}\n",
    "\n",
    "df = pd.DataFrame(data)\n",
    "print(df)"
   ]
  },
  {
   "cell_type": "markdown",
   "id": "38d988ee",
   "metadata": {},
   "source": [
    "In this example, we create three Pandas Series containing data for different columns: names, ages, and genders. We then create a dictionary that maps column names to their corresponding Series, and use this dictionary to create a new DataFrame using the pd.DataFrame() function. "
   ]
  },
  {
   "cell_type": "code",
   "execution_count": null,
   "id": "39e8f6a2",
   "metadata": {},
   "outputs": [],
   "source": []
  }
 ],
 "metadata": {
  "kernelspec": {
   "display_name": "Python 3 (ipykernel)",
   "language": "python",
   "name": "python3"
  },
  "language_info": {
   "codemirror_mode": {
    "name": "ipython",
    "version": 3
   },
   "file_extension": ".py",
   "mimetype": "text/x-python",
   "name": "python",
   "nbconvert_exporter": "python",
   "pygments_lexer": "ipython3",
   "version": "3.8.10"
  }
 },
 "nbformat": 4,
 "nbformat_minor": 5
}
