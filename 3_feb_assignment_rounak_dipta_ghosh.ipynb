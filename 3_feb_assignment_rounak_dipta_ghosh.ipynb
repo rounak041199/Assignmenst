{
 "cells": [
  {
   "cell_type": "markdown",
   "id": "8a1a4b37",
   "metadata": {},
   "source": [
    "Q1. Which keyword is used to create a function? Create a function to return a list of odd numbers in the\n",
    "range of 1 to 25."
   ]
  },
  {
   "cell_type": "markdown",
   "id": "857b3626",
   "metadata": {},
   "source": [
    "def key wprd is used to create a funtion"
   ]
  },
  {
   "cell_type": "code",
   "execution_count": 1,
   "id": "acbc9caa",
   "metadata": {},
   "outputs": [],
   "source": [
    "def list_of_odd_number(n):\n",
    "    l=[]\n",
    "    for i in range(0,n):\n",
    "        if i%2!=0:\n",
    "            l.append(i)\n",
    "    return l          "
   ]
  },
  {
   "cell_type": "code",
   "execution_count": 2,
   "id": "7b516431",
   "metadata": {},
   "outputs": [
    {
     "data": {
      "text/plain": [
       "[1, 3, 5, 7, 9, 11, 13, 15, 17, 19, 21, 23]"
      ]
     },
     "execution_count": 2,
     "metadata": {},
     "output_type": "execute_result"
    }
   ],
   "source": [
    "list_of_odd_number(25)"
   ]
  },
  {
   "cell_type": "markdown",
   "id": "335d9e51",
   "metadata": {},
   "source": [
    "Q2. Why *args and **kwargs is used in some functions? Create a function each for *args and **kwargs to\n",
    "demonstrate their use."
   ]
  },
  {
   "cell_type": "markdown",
   "id": "3344025a",
   "metadata": {},
   "source": [
    "*args and **kwargs is used in some function when we are not sure about the number of arguments we have.**kwargs is used for store the arguments as key value pair"
   ]
  },
  {
   "cell_type": "code",
   "execution_count": 3,
   "id": "ffcd4187",
   "metadata": {},
   "outputs": [],
   "source": [
    "def test1(*args):\n",
    "    return args"
   ]
  },
  {
   "cell_type": "code",
   "execution_count": 4,
   "id": "a9a28624",
   "metadata": {},
   "outputs": [
    {
     "data": {
      "text/plain": [
       "(1, 2, 3, [4, 5, 6])"
      ]
     },
     "execution_count": 4,
     "metadata": {},
     "output_type": "execute_result"
    }
   ],
   "source": [
    "test1(1,2,3,[4,5,6])"
   ]
  },
  {
   "cell_type": "code",
   "execution_count": 5,
   "id": "eaece472",
   "metadata": {},
   "outputs": [],
   "source": [
    "def test2(**kwargs):\n",
    "    for i in kwargs.keys():\n",
    "        if type(kwargs[i]) == list:\n",
    "            return i,kwargs[i]"
   ]
  },
  {
   "cell_type": "code",
   "execution_count": 6,
   "id": "d6fdaa0c",
   "metadata": {},
   "outputs": [
    {
     "data": {
      "text/plain": [
       "('d', ['Rounak', 'Dipta', 'Ghosh'])"
      ]
     },
     "execution_count": 6,
     "metadata": {},
     "output_type": "execute_result"
    }
   ],
   "source": [
    "test2(a=1,b=2,c=3,d=[\"Rounak\",\"Dipta\",\"Ghosh\"])"
   ]
  },
  {
   "cell_type": "markdown",
   "id": "97ca7316",
   "metadata": {},
   "source": [
    "Q3. What is an iterator in python? Name the method used to initialise the iterator object and the method\n",
    "used for iteration. Use these methods to print the first five elements of the given list [2, 4, 6, 8, 10, 12, 14, 16,\n",
    "18, 20]."
   ]
  },
  {
   "cell_type": "markdown",
   "id": "5c993338",
   "metadata": {},
   "source": [
    "An iterator is an object that can be iterated upon, meaning that you can traverse through all the values.\n",
    "The methods are __iter__() and __next__()"
   ]
  },
  {
   "cell_type": "code",
   "execution_count": 7,
   "id": "1b5e67fd",
   "metadata": {},
   "outputs": [
    {
     "name": "stdout",
     "output_type": "stream",
     "text": [
      "2\n",
      "4\n",
      "6\n",
      "8\n",
      "10\n"
     ]
    }
   ],
   "source": [
    "l = [2, 4, 6, 8, 10, 12, 14, 16, 18, 20]\n",
    "numbers = iter(l)\n",
    "for i in range(0,5):\n",
    "    print(next(numbers))"
   ]
  },
  {
   "cell_type": "markdown",
   "id": "b62dccad",
   "metadata": {},
   "source": [
    "Q4. What is a generator function in python? Why yield keyword is used? Give an example of a generator\n",
    "function.\n"
   ]
  },
  {
   "cell_type": "markdown",
   "id": "259db1fb",
   "metadata": {},
   "source": [
    "Generator is a function that returns a iterator . It is used when we want a large anount of data but we di not want to store all then in memory at once\n"
   ]
  },
  {
   "cell_type": "markdown",
   "id": "5caab443",
   "metadata": {},
   "source": [
    "yield keyword is used to create a generator function"
   ]
  },
  {
   "cell_type": "code",
   "execution_count": 8,
   "id": "757d79a6",
   "metadata": {},
   "outputs": [],
   "source": [
    "def my_generator(n):\n",
    "    i = 1\n",
    "    while i<n:\n",
    "        yield i\n",
    "        i=i+1"
   ]
  },
  {
   "cell_type": "code",
   "execution_count": 9,
   "id": "a3218f67",
   "metadata": {},
   "outputs": [
    {
     "name": "stdout",
     "output_type": "stream",
     "text": [
      "1\n",
      "2\n",
      "3\n",
      "4\n"
     ]
    }
   ],
   "source": [
    "for i in my_generator(5):\n",
    "    print(i)"
   ]
  },
  {
   "cell_type": "markdown",
   "id": "4e06a2ab",
   "metadata": {},
   "source": [
    "Q5. Create a generator function for prime numbers less than 1000. Use the next() method to print the\n",
    "first 20 prime numbers."
   ]
  },
  {
   "cell_type": "code",
   "execution_count": 10,
   "id": "39b33937",
   "metadata": {},
   "outputs": [],
   "source": [
    "def print_prime_number(n):\n",
    "    a,b=0,1\n",
    "    for i in range(n):\n",
    "        yield a\n",
    "        a,b = b,a+b"
   ]
  },
  {
   "cell_type": "code",
   "execution_count": 11,
   "id": "f43be7d0",
   "metadata": {},
   "outputs": [
    {
     "name": "stdout",
     "output_type": "stream",
     "text": [
      "0\n",
      "1\n",
      "1\n",
      "2\n",
      "3\n",
      "5\n",
      "8\n",
      "13\n",
      "21\n",
      "34\n",
      "55\n",
      "89\n",
      "144\n",
      "233\n",
      "377\n",
      "610\n",
      "987\n",
      "1597\n",
      "2584\n",
      "4181\n"
     ]
    }
   ],
   "source": [
    "numbers = iter(print_prime_number(1000))\n",
    "for i in range(20):\n",
    "    print(next(numbers))"
   ]
  }
 ],
 "metadata": {
  "kernelspec": {
   "display_name": "Python 3 (ipykernel)",
   "language": "python",
   "name": "python3"
  },
  "language_info": {
   "codemirror_mode": {
    "name": "ipython",
    "version": 3
   },
   "file_extension": ".py",
   "mimetype": "text/x-python",
   "name": "python",
   "nbconvert_exporter": "python",
   "pygments_lexer": "ipython3",
   "version": "3.8.10"
  }
 },
 "nbformat": 4,
 "nbformat_minor": 5
}
