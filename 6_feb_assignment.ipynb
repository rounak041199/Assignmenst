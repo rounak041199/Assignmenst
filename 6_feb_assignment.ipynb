{
 "cells": [
  {
   "cell_type": "markdown",
   "id": "e55f8930",
   "metadata": {},
   "source": [
    "Q1. Create a function which will take a list as an argument and return the product of all the numbers\n",
    "after creating a flat list.\n",
    "Use the below-given list as an argument for your function.\n",
    "list1 = [1,2,3,4, [44,55,66, True], False, (34,56,78,89,34), {1,2,3,3,2,1}, {1:34, \"key2\": [55, 67, 78, 89], 4: (45,\n",
    "22, 61, 34)}, [56, 'data science'], 'Machine Learning']\n",
    "Note: you must extract numeric keys and values of the dictionary also."
   ]
  },
  {
   "cell_type": "code",
   "execution_count": 14,
   "id": "7e1e8f3d",
   "metadata": {},
   "outputs": [],
   "source": [
    "def product_of_all_numbers(lst1):\n",
    "    flat_list = []\n",
    "    def extract_number(l):\n",
    "        for i in l:\n",
    "            if type(i)==int or type(i)==float:\n",
    "                flat_list.append(i)\n",
    "            elif type(i)==list or type(i)==tuple:\n",
    "                extract_number(i)\n",
    "            elif type(i) == dict:\n",
    "                for key,value in i.items():\n",
    "                    if type(key)==int or type(key)==float:\n",
    "                        flat_list.append(key)\n",
    "                    if type(value)==int or type(key)==float:\n",
    "                        flat_list.append(value)\n",
    "                    elif type(value)==list or type(value)==tuple:\n",
    "                        extract_number(value)\n",
    "    \n",
    "    extract_number(lst1)\n",
    "    \n",
    "    product = 1\n",
    "    for num in flat_list:\n",
    "        product *= num\n",
    "    return product"
   ]
  },
  {
   "cell_type": "code",
   "execution_count": 15,
   "id": "fac17875",
   "metadata": {},
   "outputs": [
    {
     "name": "stdout",
     "output_type": "stream",
     "text": [
      "689118639831180913138973540352000\n"
     ]
    }
   ],
   "source": [
    "list1 = [1,2,3,4, [44,55,66, True], False, (34,56,78,89,34), {1,2,3,3,2,1}, {1:34, \"key2\": [55, 67, 78, 89], 4: (45, 22, 61, 34)}, [56, 'data science'], 'Machine Learning'] \n",
    "\n",
    "print(product_of_all_numbers(list1))"
   ]
  },
  {
   "cell_type": "markdown",
   "id": "738b91fb",
   "metadata": {},
   "source": [
    "Q2. Write a python program for encrypting a message sent to you by your friend. The logic of encryption\n",
    "should be such that, for a the output should be z. For b, the output should be y. For c, the output should\n",
    "be x respectively. Also, the whitespace should be replaced with a dollar sign. Keep the punctuation\n",
    "marks unchanged.\n",
    "Input Sentence: I want to become a Data Scientist.\n",
    "Encrypt the above input sentence using the program you just created.\n",
    "Note: Convert the given input sentence into lowercase before encrypting. The final output should be\n",
    "lowercase.\n"
   ]
  },
  {
   "cell_type": "code",
   "execution_count": 29,
   "id": "2574936f",
   "metadata": {},
   "outputs": [],
   "source": [
    "def encrypt_message(msg):\n",
    "    final_message =\"\"\n",
    "    msg= msg.lower()\n",
    "    for char in msg:\n",
    "        if char.isalpha():\n",
    "            final_message += chr(122-ord(char)+97)\n",
    "        elif char == \" \":\n",
    "            final_message+= \"$\"\n",
    "        else:\n",
    "            final_message+=char\n",
    "            \n",
    "    return final_message        "
   ]
  },
  {
   "cell_type": "code",
   "execution_count": 30,
   "id": "1ad65b95",
   "metadata": {},
   "outputs": [
    {
     "name": "stdout",
     "output_type": "stream",
     "text": [
      "r$dzmg$gl$yvxlnv$z$wzgz$hxrvmgrhg\n"
     ]
    }
   ],
   "source": [
    "msg = \"I want to become a Data Scientist\"\n",
    "print(encrypt_message(msg))"
   ]
  },
  {
   "cell_type": "code",
   "execution_count": null,
   "id": "fb66bb44",
   "metadata": {},
   "outputs": [],
   "source": []
  }
 ],
 "metadata": {
  "kernelspec": {
   "display_name": "Python 3 (ipykernel)",
   "language": "python",
   "name": "python3"
  },
  "language_info": {
   "codemirror_mode": {
    "name": "ipython",
    "version": 3
   },
   "file_extension": ".py",
   "mimetype": "text/x-python",
   "name": "python",
   "nbconvert_exporter": "python",
   "pygments_lexer": "ipython3",
   "version": "3.8.10"
  }
 },
 "nbformat": 4,
 "nbformat_minor": 5
}
