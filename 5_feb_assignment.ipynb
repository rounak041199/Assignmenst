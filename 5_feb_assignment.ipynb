{
 "cells": [
  {
   "cell_type": "markdown",
   "id": "3cfce953",
   "metadata": {},
   "source": [
    "Q1. Explain Class and Object with respect to Object-Oriented Programming. Give a suitable example."
   ]
  },
  {
   "cell_type": "markdown",
   "id": "5c59a020",
   "metadata": {},
   "source": [
    "A class is a blueprint or a template that defines the attributes and methods of an object. A class defines what an object will look like and what it can do. For example, a \"Car\" class can have attributes such as make, model, color, and year and methods like start, drive, and stop.\n",
    "\n",
    "An object, on the other hand, is an instance of a class. It is  a specific representation of a class. For example, a \"Volkswagen Virtus\" could be an instance of the \"Car\" class, with make = \"Volkswagen\", model = \"Virtus\", color = \"red\", and year = 2023."
   ]
  },
  {
   "cell_type": "markdown",
   "id": "19bdd53a",
   "metadata": {},
   "source": [
    "Q2. Name the four pillars of OOPs."
   ]
  },
  {
   "cell_type": "markdown",
   "id": "88bf99ec",
   "metadata": {},
   "source": [
    "There are four pillars in OOps :\n",
    "    1.Abstarction\n",
    "    2.Encapsulation\n",
    "    3.Inheritance\n",
    "    4.Polymorphism"
   ]
  },
  {
   "cell_type": "markdown",
   "id": "681ea938",
   "metadata": {},
   "source": [
    "Q3. Explain why the __init__() function is used. Give a suitable example."
   ]
  },
  {
   "cell_type": "markdown",
   "id": "ce8b3e31",
   "metadata": {},
   "source": [
    "The __init__() function is used in Python to initialize an object when it is created. It's a special method that is automatically called when an object is created from a class."
   ]
  },
  {
   "cell_type": "code",
   "execution_count": 1,
   "id": "9396e1cb",
   "metadata": {},
   "outputs": [],
   "source": [
    "class employees:\n",
    "    def __init__(self,name,age,id):\n",
    "        self.name = name\n",
    "        self.age  = age\n",
    "        self.id   = id\n",
    "    \n",
    "    def print_employee(self):\n",
    "        return self.name,self.age,self.id"
   ]
  },
  {
   "cell_type": "code",
   "execution_count": 3,
   "id": "78ab02ba",
   "metadata": {},
   "outputs": [
    {
     "data": {
      "text/plain": [
       "('Rounak', 23, 1234)"
      ]
     },
     "execution_count": 3,
     "metadata": {},
     "output_type": "execute_result"
    }
   ],
   "source": [
    "emp1 = employees(\"Rounak\",23,1234)\n",
    "emp1.print_employee()"
   ]
  },
  {
   "cell_type": "markdown",
   "id": "62bfc306",
   "metadata": {},
   "source": [
    "Q4. Why self is used in OOPs?"
   ]
  },
  {
   "cell_type": "markdown",
   "id": "9a370c69",
   "metadata": {},
   "source": [
    "The self parameter in Object-Oriented Programming (OOP) is used to refer to the instance of the object that is calling a method."
   ]
  },
  {
   "cell_type": "markdown",
   "id": "203501a8",
   "metadata": {},
   "source": [
    "Q5. What is inheritance? Give an example for each type of inheritance."
   ]
  },
  {
   "cell_type": "markdown",
   "id": "9c3faa4f",
   "metadata": {},
   "source": [
    "Inheritance is a fundamental concept in Object-Oriented Programming (OOP) that allows you to create a new class based on an existing class. The new class, known as the derived class or child class, inherits the attributes and behaviors of the existing class, known as the base class or parent class. This allows you to reuse code and simplify the design of your classes."
   ]
  },
  {
   "cell_type": "code",
   "execution_count": 12,
   "id": "4cdf08da",
   "metadata": {},
   "outputs": [],
   "source": [
    "class Animal:\n",
    "    def __init__(self, name):\n",
    "        self.name = name\n",
    "        \n",
    "    def make_sound(self):\n",
    "        print(\"Some animal sound\")\n",
    "        \n",
    "class Dog(Animal):\n",
    "    def make_sound(self):\n",
    "        print(f\"{self.name} : Woof!\")\n"
   ]
  },
  {
   "cell_type": "code",
   "execution_count": 13,
   "id": "d3510f2d",
   "metadata": {},
   "outputs": [
    {
     "name": "stdout",
     "output_type": "stream",
     "text": [
      "Some animal sound\n",
      "Champ : Woof!\n"
     ]
    }
   ],
   "source": [
    "cat =Animal(\"Kitti\")\n",
    "cat.make_sound()\n",
    "\n",
    "dog = Dog(\"Champ\")\n",
    "dog.make_sound()"
   ]
  }
 ],
 "metadata": {
  "kernelspec": {
   "display_name": "Python 3 (ipykernel)",
   "language": "python",
   "name": "python3"
  },
  "language_info": {
   "codemirror_mode": {
    "name": "ipython",
    "version": 3
   },
   "file_extension": ".py",
   "mimetype": "text/x-python",
   "name": "python",
   "nbconvert_exporter": "python",
   "pygments_lexer": "ipython3",
   "version": "3.8.10"
  }
 },
 "nbformat": 4,
 "nbformat_minor": 5
}
