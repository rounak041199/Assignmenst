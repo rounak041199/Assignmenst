{
 "cells": [
  {
   "cell_type": "markdown",
   "id": "25574564",
   "metadata": {},
   "source": [
    "Q1. What is Flask Framework? What are the advantages of Flask Framework?"
   ]
  },
  {
   "cell_type": "markdown",
   "id": "73bc6fc9",
   "metadata": {},
   "source": [
    "Flask is a lightweight web framework for Python that is designed to make building web applications simple and easy."
   ]
  },
  {
   "cell_type": "markdown",
   "id": "d6efd5f2",
   "metadata": {},
   "source": [
    "The advantages of Flask Framework are -- it is lightweight,flexible,easy to use , well documented"
   ]
  },
  {
   "cell_type": "markdown",
   "id": "78888f84",
   "metadata": {},
   "source": [
    "Q2. Create a simple Flask application to display ‘Hello World!!’. Attach the screenshot of the output in\n",
    "Jupyter Notebook."
   ]
  },
  {
   "cell_type": "code",
   "execution_count": null,
   "id": "9b971e60",
   "metadata": {},
   "outputs": [],
   "source": [
    "from flask import Flask\n",
    "\n",
    "app = Flask(__name__)\n",
    "\n",
    "@app.route('/')\n",
    "def hello_world():\n",
    "    return 'Hello World!'\n",
    "\n",
    "if __name__ == '__main__':\n",
    "    app.run(host=\"0.0.0.0\")"
   ]
  },
  {
   "attachments": {
    "image.png": {
     "image/png": "[encoded data removed]"
    }
   },
   "cell_type": "markdown",
   "id": "04909ff5",
   "metadata": {},
   "source": [
    "![image.png](attachment:image.png)"
   ]
  },
  {
   "cell_type": "markdown",
   "id": "5184d6e9",
   "metadata": {},
   "source": [
    "Q3. What is App routing in Flask? Why do we use app routes?"
   ]
  },
  {
   "cell_type": "markdown",
   "id": "51ce65ae",
   "metadata": {},
   "source": [
    "In flask,App routing means the process of mapping URL paths to the functions  that will handle those request."
   ]
  },
  {
   "cell_type": "markdown",
   "id": "116cf0b4",
   "metadata": {},
   "source": [
    "When a user visits a particular URL in our application, Flask uses the routing rules to determine which function should handle the request. The function then generates a response that is sent back to the user's web browser."
   ]
  },
  {
   "cell_type": "markdown",
   "id": "73c0bc5c",
   "metadata": {},
   "source": [
    "Q4. Create a “/welcome” route to display the welcome message “Welcome to ABC Corporation” and a “/”\n",
    "route to show the following details:\n",
    "Company Name: ABC Corporation\n",
    "Location: India\n",
    "Contact Detail: 999-999-9999"
   ]
  },
  {
   "cell_type": "code",
   "execution_count": null,
   "id": "34778c9b",
   "metadata": {},
   "outputs": [],
   "source": [
    "from flask import Flask\n",
    "\n",
    "app = Flask(__name__)\n",
    "\n",
    "@app.route('/welcome')\n",
    "def welcome():\n",
    "    return 'Welcome to ABC Corporation'\n",
    "\n",
    "@app.route('/')\n",
    "def company_details():\n",
    "    return 'Company Name: ABC Corporation<br>Location: India<br>Contact Detail: 999-999-9999'\n",
    "\n",
    "if __name__ == '__main__':\n",
    "    app.run(host=\"0.0.0.0\")\n",
    "\n",
    "    "
   ]
  },
  {
   "cell_type": "markdown",
   "id": "103a6452",
   "metadata": {},
   "source": [
    "Q5. What function is used in Flask for URL Building? Write a Python code to demonstrate the working of the\n",
    "url_for() function."
   ]
  },
  {
   "cell_type": "markdown",
   "id": "6d86179e",
   "metadata": {},
   "source": [
    "The url_for() function in Flask is used for URL building. It generates a URL for the specified endpoint, based on the given parameters. It takes the name of the endpoint as its first argument, and any number of keyword arguments that correspond to the variable parts of the URL."
   ]
  },
  {
   "cell_type": "code",
   "execution_count": null,
   "id": "e38255df",
   "metadata": {},
   "outputs": [],
   "source": [
    "from flask import Flask, url_for\n",
    "\n",
    "app = Flask(__name__)\n",
    "\n",
    "@app.route('/user/<username>')\n",
    "def show_user_profile(username):\n",
    "    return 'User %s' % username\n",
    "\n",
    "@app.route('/post/<int:post_id>')\n",
    "def show_post(post_id):\n",
    "    return 'Post %d' % post_id\n",
    "\n",
    "@app.route('/login')\n",
    "def login():\n",
    "    return 'Login'\n",
    "\n",
    "with app.test_request_context():\n",
    "    print(url_for('show_user_profile', username='John Doe'))\n",
    "    print(url_for('show_post', post_id=5))\n",
    "    print(url_for('login'))"
   ]
  }
 ],
 "metadata": {
  "kernelspec": {
   "display_name": "Python 3 (ipykernel)",
   "language": "python",
   "name": "python3"
  },
  "language_info": {
   "codemirror_mode": {
    "name": "ipython",
    "version": 3
   },
   "file_extension": ".py",
   "mimetype": "text/x-python",
   "name": "python",
   "nbconvert_exporter": "python",
   "pygments_lexer": "ipython3",
   "version": "3.8.10"
  }
 },
 "nbformat": 4,
 "nbformat_minor": 5
}
