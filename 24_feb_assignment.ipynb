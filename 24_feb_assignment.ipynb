{
 "cells": [
  {
   "cell_type": "markdown",
   "id": "ef744d79",
   "metadata": {},
   "source": [
    "Q1. List any five functions of the pandas library with execution."
   ]
  },
  {
   "cell_type": "markdown",
   "id": "883357de",
   "metadata": {},
   "source": [
    "pandas.read_csv():"
   ]
  },
  {
   "cell_type": "code",
   "execution_count": 2,
   "id": "eeb5fd23",
   "metadata": {},
   "outputs": [],
   "source": [
    "import pandas as pd\n",
    "df = pd.read_csv('services.csv')"
   ]
  },
  {
   "cell_type": "markdown",
   "id": "b5297604",
   "metadata": {},
   "source": [
    "pandas.DataFrame.head()"
   ]
  },
  {
   "cell_type": "code",
   "execution_count": 3,
   "id": "8a3afb52",
   "metadata": {},
   "outputs": [
    {
     "data": {
      "text/html": [
       "<div>\n",
       "<style scoped>\n",
       "    .dataframe tbody tr th:only-of-type {\n",
       "        vertical-align: middle;\n",
       "    }\n",
       "\n",
       "    .dataframe tbody tr th {\n",
       "        vertical-align: top;\n",
       "    }\n",
       "\n",
       "    .dataframe thead th {\n",
       "        text-align: right;\n",
       "    }\n",
       "</style>\n",
       "<table border=\"1\" class=\"dataframe\">\n",
       "  <thead>\n",
       "    <tr style=\"text-align: right;\">\n",
       "      <th></th>\n",
       "      <th>id</th>\n",
       "      <th>location_id</th>\n",
       "      <th>program_id</th>\n",
       "      <th>accepted_payments</th>\n",
       "      <th>alternate_name</th>\n",
       "      <th>application_process</th>\n",
       "      <th>audience</th>\n",
       "      <th>description</th>\n",
       "      <th>eligibility</th>\n",
       "      <th>email</th>\n",
       "      <th>...</th>\n",
       "      <th>interpretation_services</th>\n",
       "      <th>keywords</th>\n",
       "      <th>languages</th>\n",
       "      <th>name</th>\n",
       "      <th>required_documents</th>\n",
       "      <th>service_areas</th>\n",
       "      <th>status</th>\n",
       "      <th>wait_time</th>\n",
       "      <th>website</th>\n",
       "      <th>taxonomy_ids</th>\n",
       "    </tr>\n",
       "  </thead>\n",
       "  <tbody>\n",
       "    <tr>\n",
       "      <th>0</th>\n",
       "      <td>1</td>\n",
       "      <td>1</td>\n",
       "      <td>NaN</td>\n",
       "      <td>NaN</td>\n",
       "      <td>NaN</td>\n",
       "      <td>Walk in or apply by phone.</td>\n",
       "      <td>Older adults age 55 or over, ethnic minorities...</td>\n",
       "      <td>A walk-in center for older adults that provide...</td>\n",
       "      <td>Age 55 or over for most programs, age 60 or ov...</td>\n",
       "      <td>NaN</td>\n",
       "      <td>...</td>\n",
       "      <td>NaN</td>\n",
       "      <td>ADULT PROTECTION AND CARE SERVICES, Meal Sites...</td>\n",
       "      <td>NaN</td>\n",
       "      <td>Fair Oaks Adult Activity Center</td>\n",
       "      <td>NaN</td>\n",
       "      <td>Colma</td>\n",
       "      <td>active</td>\n",
       "      <td>No wait.</td>\n",
       "      <td>NaN</td>\n",
       "      <td>NaN</td>\n",
       "    </tr>\n",
       "    <tr>\n",
       "      <th>1</th>\n",
       "      <td>2</td>\n",
       "      <td>2</td>\n",
       "      <td>NaN</td>\n",
       "      <td>NaN</td>\n",
       "      <td>NaN</td>\n",
       "      <td>Apply by phone for an appointment.</td>\n",
       "      <td>Residents of San Mateo County age 55 or over</td>\n",
       "      <td>Provides training and job placement to eligibl...</td>\n",
       "      <td>Age 55 or over, county resident and willing an...</td>\n",
       "      <td>NaN</td>\n",
       "      <td>...</td>\n",
       "      <td>NaN</td>\n",
       "      <td>EMPLOYMENT/TRAINING SERVICES, Job Development,...</td>\n",
       "      <td>NaN</td>\n",
       "      <td>Second Career Employment Program</td>\n",
       "      <td>NaN</td>\n",
       "      <td>San Mateo County</td>\n",
       "      <td>active</td>\n",
       "      <td>Varies.</td>\n",
       "      <td>NaN</td>\n",
       "      <td>NaN</td>\n",
       "    </tr>\n",
       "    <tr>\n",
       "      <th>2</th>\n",
       "      <td>3</td>\n",
       "      <td>3</td>\n",
       "      <td>NaN</td>\n",
       "      <td>NaN</td>\n",
       "      <td>NaN</td>\n",
       "      <td>Phone for information (403-4300 Ext. 4322).</td>\n",
       "      <td>Older adults age 55 or over who can benefit fr...</td>\n",
       "      <td>Offers supportive counseling services to San M...</td>\n",
       "      <td>Resident of San Mateo County age 55 or over</td>\n",
       "      <td>NaN</td>\n",
       "      <td>...</td>\n",
       "      <td>NaN</td>\n",
       "      <td>Geriatric Counseling, Older Adults, Gay, Lesbi...</td>\n",
       "      <td>NaN</td>\n",
       "      <td>Senior Peer Counseling</td>\n",
       "      <td>NaN</td>\n",
       "      <td>San Mateo County</td>\n",
       "      <td>active</td>\n",
       "      <td>Varies.</td>\n",
       "      <td>NaN</td>\n",
       "      <td>NaN</td>\n",
       "    </tr>\n",
       "    <tr>\n",
       "      <th>3</th>\n",
       "      <td>4</td>\n",
       "      <td>4</td>\n",
       "      <td>NaN</td>\n",
       "      <td>NaN</td>\n",
       "      <td>NaN</td>\n",
       "      <td>Apply by phone.</td>\n",
       "      <td>Parents, children, families with problems of c...</td>\n",
       "      <td>Provides supervised visitation services and a ...</td>\n",
       "      <td>None</td>\n",
       "      <td>NaN</td>\n",
       "      <td>...</td>\n",
       "      <td>NaN</td>\n",
       "      <td>INDIVIDUAL AND FAMILY DEVELOPMENT SERVICES, Gr...</td>\n",
       "      <td>NaN</td>\n",
       "      <td>Family Visitation Center</td>\n",
       "      <td>NaN</td>\n",
       "      <td>San Mateo County</td>\n",
       "      <td>active</td>\n",
       "      <td>No wait.</td>\n",
       "      <td>NaN</td>\n",
       "      <td>NaN</td>\n",
       "    </tr>\n",
       "    <tr>\n",
       "      <th>4</th>\n",
       "      <td>5</td>\n",
       "      <td>5</td>\n",
       "      <td>NaN</td>\n",
       "      <td>NaN</td>\n",
       "      <td>NaN</td>\n",
       "      <td>Phone for information.</td>\n",
       "      <td>Low-income working families with children tran...</td>\n",
       "      <td>Provides fixed 8% short term loans to eligible...</td>\n",
       "      <td>Eligibility: Low-income family with legal cust...</td>\n",
       "      <td>NaN</td>\n",
       "      <td>...</td>\n",
       "      <td>NaN</td>\n",
       "      <td>COMMUNITY SERVICES, Speakers, Automobile Loans</td>\n",
       "      <td>NaN</td>\n",
       "      <td>Economic Self-Sufficiency Program</td>\n",
       "      <td>NaN</td>\n",
       "      <td>San Mateo County</td>\n",
       "      <td>active</td>\n",
       "      <td>NaN</td>\n",
       "      <td>NaN</td>\n",
       "      <td>NaN</td>\n",
       "    </tr>\n",
       "  </tbody>\n",
       "</table>\n",
       "<p>5 rows × 22 columns</p>\n",
       "</div>"
      ],
      "text/plain": [
       "   id  location_id  program_id accepted_payments alternate_name  \\\n",
       "0   1            1         NaN               NaN            NaN   \n",
       "1   2            2         NaN               NaN            NaN   \n",
       "2   3            3         NaN               NaN            NaN   \n",
       "3   4            4         NaN               NaN            NaN   \n",
       "4   5            5         NaN               NaN            NaN   \n",
       "\n",
       "                           application_process  \\\n",
       "0                   Walk in or apply by phone.   \n",
       "1           Apply by phone for an appointment.   \n",
       "2  Phone for information (403-4300 Ext. 4322).   \n",
       "3                              Apply by phone.   \n",
       "4                       Phone for information.   \n",
       "\n",
       "                                            audience  \\\n",
       "0  Older adults age 55 or over, ethnic minorities...   \n",
       "1       Residents of San Mateo County age 55 or over   \n",
       "2  Older adults age 55 or over who can benefit fr...   \n",
       "3  Parents, children, families with problems of c...   \n",
       "4  Low-income working families with children tran...   \n",
       "\n",
       "                                         description  \\\n",
       "0  A walk-in center for older adults that provide...   \n",
       "1  Provides training and job placement to eligibl...   \n",
       "2  Offers supportive counseling services to San M...   \n",
       "3  Provides supervised visitation services and a ...   \n",
       "4  Provides fixed 8% short term loans to eligible...   \n",
       "\n",
       "                                         eligibility email  ...  \\\n",
       "0  Age 55 or over for most programs, age 60 or ov...   NaN  ...   \n",
       "1  Age 55 or over, county resident and willing an...   NaN  ...   \n",
       "2        Resident of San Mateo County age 55 or over   NaN  ...   \n",
       "3                                               None   NaN  ...   \n",
       "4  Eligibility: Low-income family with legal cust...   NaN  ...   \n",
       "\n",
       "  interpretation_services                                           keywords  \\\n",
       "0                     NaN  ADULT PROTECTION AND CARE SERVICES, Meal Sites...   \n",
       "1                     NaN  EMPLOYMENT/TRAINING SERVICES, Job Development,...   \n",
       "2                     NaN  Geriatric Counseling, Older Adults, Gay, Lesbi...   \n",
       "3                     NaN  INDIVIDUAL AND FAMILY DEVELOPMENT SERVICES, Gr...   \n",
       "4                     NaN     COMMUNITY SERVICES, Speakers, Automobile Loans   \n",
       "\n",
       "  languages                               name required_documents  \\\n",
       "0       NaN    Fair Oaks Adult Activity Center                NaN   \n",
       "1       NaN   Second Career Employment Program                NaN   \n",
       "2       NaN             Senior Peer Counseling                NaN   \n",
       "3       NaN           Family Visitation Center                NaN   \n",
       "4       NaN  Economic Self-Sufficiency Program                NaN   \n",
       "\n",
       "      service_areas  status wait_time website taxonomy_ids  \n",
       "0             Colma  active  No wait.     NaN          NaN  \n",
       "1  San Mateo County  active   Varies.     NaN          NaN  \n",
       "2  San Mateo County  active   Varies.     NaN          NaN  \n",
       "3  San Mateo County  active  No wait.     NaN          NaN  \n",
       "4  San Mateo County  active       NaN     NaN          NaN  \n",
       "\n",
       "[5 rows x 22 columns]"
      ]
     },
     "execution_count": 3,
     "metadata": {},
     "output_type": "execute_result"
    }
   ],
   "source": [
    "import pandas as pd\n",
    "df = pd.read_csv('services.csv')\n",
    "df.head()"
   ]
  },
  {
   "cell_type": "markdown",
   "id": "e0ae11a8",
   "metadata": {},
   "source": [
    "pandas.DataFrame.tail()"
   ]
  },
  {
   "cell_type": "code",
   "execution_count": 6,
   "id": "4eaf26d3",
   "metadata": {},
   "outputs": [
    {
     "data": {
      "text/html": [
       "<div>\n",
       "<style scoped>\n",
       "    .dataframe tbody tr th:only-of-type {\n",
       "        vertical-align: middle;\n",
       "    }\n",
       "\n",
       "    .dataframe tbody tr th {\n",
       "        vertical-align: top;\n",
       "    }\n",
       "\n",
       "    .dataframe thead th {\n",
       "        text-align: right;\n",
       "    }\n",
       "</style>\n",
       "<table border=\"1\" class=\"dataframe\">\n",
       "  <thead>\n",
       "    <tr style=\"text-align: right;\">\n",
       "      <th></th>\n",
       "      <th>id</th>\n",
       "      <th>location_id</th>\n",
       "      <th>program_id</th>\n",
       "      <th>accepted_payments</th>\n",
       "      <th>alternate_name</th>\n",
       "      <th>application_process</th>\n",
       "      <th>audience</th>\n",
       "      <th>description</th>\n",
       "      <th>eligibility</th>\n",
       "      <th>email</th>\n",
       "      <th>...</th>\n",
       "      <th>interpretation_services</th>\n",
       "      <th>keywords</th>\n",
       "      <th>languages</th>\n",
       "      <th>name</th>\n",
       "      <th>required_documents</th>\n",
       "      <th>service_areas</th>\n",
       "      <th>status</th>\n",
       "      <th>wait_time</th>\n",
       "      <th>website</th>\n",
       "      <th>taxonomy_ids</th>\n",
       "    </tr>\n",
       "  </thead>\n",
       "  <tbody>\n",
       "    <tr>\n",
       "      <th>18</th>\n",
       "      <td>19</td>\n",
       "      <td>19</td>\n",
       "      <td>NaN</td>\n",
       "      <td>NaN</td>\n",
       "      <td>NaN</td>\n",
       "      <td>Call for screening appointment (650-347-3648).</td>\n",
       "      <td>NaN</td>\n",
       "      <td>Provides free medical and dental care to those...</td>\n",
       "      <td>Low-income person without access to health care</td>\n",
       "      <td>NaN</td>\n",
       "      <td>...</td>\n",
       "      <td>NaN</td>\n",
       "      <td>HEALTH SERVICES, Outpatient Care, Community Cl...</td>\n",
       "      <td>NaN</td>\n",
       "      <td>San Mateo Free Medical Clinic</td>\n",
       "      <td>NaN</td>\n",
       "      <td>Belmont, Burlingame</td>\n",
       "      <td>active</td>\n",
       "      <td>Varies.</td>\n",
       "      <td>NaN</td>\n",
       "      <td>NaN</td>\n",
       "    </tr>\n",
       "    <tr>\n",
       "      <th>19</th>\n",
       "      <td>20</td>\n",
       "      <td>20</td>\n",
       "      <td>NaN</td>\n",
       "      <td>NaN</td>\n",
       "      <td>NaN</td>\n",
       "      <td>Walk in.</td>\n",
       "      <td>NaN</td>\n",
       "      <td>no unrequired fields for this service</td>\n",
       "      <td>NaN</td>\n",
       "      <td>NaN</td>\n",
       "      <td>...</td>\n",
       "      <td>NaN</td>\n",
       "      <td>NaN</td>\n",
       "      <td>NaN</td>\n",
       "      <td>Service with blank fields</td>\n",
       "      <td>NaN</td>\n",
       "      <td>NaN</td>\n",
       "      <td>defunct</td>\n",
       "      <td>NaN</td>\n",
       "      <td>NaN</td>\n",
       "      <td>NaN</td>\n",
       "    </tr>\n",
       "    <tr>\n",
       "      <th>20</th>\n",
       "      <td>21</td>\n",
       "      <td>21</td>\n",
       "      <td>NaN</td>\n",
       "      <td>NaN</td>\n",
       "      <td>NaN</td>\n",
       "      <td>By phone during business hours.</td>\n",
       "      <td>NaN</td>\n",
       "      <td>just a test service</td>\n",
       "      <td>NaN</td>\n",
       "      <td>NaN</td>\n",
       "      <td>...</td>\n",
       "      <td>NaN</td>\n",
       "      <td>NaN</td>\n",
       "      <td>NaN</td>\n",
       "      <td>Service for Admin Test Location</td>\n",
       "      <td>NaN</td>\n",
       "      <td>San Mateo County</td>\n",
       "      <td>inactive</td>\n",
       "      <td>NaN</td>\n",
       "      <td>NaN</td>\n",
       "      <td>NaN</td>\n",
       "    </tr>\n",
       "    <tr>\n",
       "      <th>21</th>\n",
       "      <td>22</td>\n",
       "      <td>22</td>\n",
       "      <td>NaN</td>\n",
       "      <td>Cash, Check, Credit Card</td>\n",
       "      <td>Fotos para pasaportes</td>\n",
       "      <td>Walk in or apply by phone or mail</td>\n",
       "      <td>Profit and nonprofit businesses, the public, m...</td>\n",
       "      <td>[NOTE THIS IS NOT A REAL SERVICE--THIS IS FOR ...</td>\n",
       "      <td>None</td>\n",
       "      <td>passports@example.org</td>\n",
       "      <td>...</td>\n",
       "      <td>We offer 3-way interpretation services over th...</td>\n",
       "      <td>Salud, Medicina</td>\n",
       "      <td>Spanish</td>\n",
       "      <td>Passport Photos</td>\n",
       "      <td>Government-issued picture identification</td>\n",
       "      <td>Alameda County, San Mateo County</td>\n",
       "      <td>active</td>\n",
       "      <td>No wait to 2 weeks.</td>\n",
       "      <td>http://www.example.com</td>\n",
       "      <td>105, 108, 108-05, 108-05-01, 111, 111-05</td>\n",
       "    </tr>\n",
       "    <tr>\n",
       "      <th>22</th>\n",
       "      <td>23</td>\n",
       "      <td>22</td>\n",
       "      <td>NaN</td>\n",
       "      <td>NaN</td>\n",
       "      <td>NaN</td>\n",
       "      <td>Walk in or apply by phone or mail</td>\n",
       "      <td>Second service and nonprofit businesses, the p...</td>\n",
       "      <td>[NOTE THIS IS NOT A REAL ORGANIZATION--THIS IS...</td>\n",
       "      <td>None</td>\n",
       "      <td>NaN</td>\n",
       "      <td>...</td>\n",
       "      <td>NaN</td>\n",
       "      <td>Ruby on Rails/Postgres/Redis, testing, wic</td>\n",
       "      <td>NaN</td>\n",
       "      <td>Example Service Name</td>\n",
       "      <td>NaN</td>\n",
       "      <td>San Mateo County, Alameda County</td>\n",
       "      <td>active</td>\n",
       "      <td>No wait to 2 weeks</td>\n",
       "      <td>http://www.example.com</td>\n",
       "      <td>NaN</td>\n",
       "    </tr>\n",
       "  </tbody>\n",
       "</table>\n",
       "<p>5 rows × 22 columns</p>\n",
       "</div>"
      ],
      "text/plain": [
       "    id  location_id  program_id         accepted_payments  \\\n",
       "18  19           19         NaN                       NaN   \n",
       "19  20           20         NaN                       NaN   \n",
       "20  21           21         NaN                       NaN   \n",
       "21  22           22         NaN  Cash, Check, Credit Card   \n",
       "22  23           22         NaN                       NaN   \n",
       "\n",
       "           alternate_name                             application_process  \\\n",
       "18                    NaN  Call for screening appointment (650-347-3648).   \n",
       "19                    NaN                                        Walk in.   \n",
       "20                    NaN                 By phone during business hours.   \n",
       "21  Fotos para pasaportes               Walk in or apply by phone or mail   \n",
       "22                    NaN               Walk in or apply by phone or mail   \n",
       "\n",
       "                                             audience  \\\n",
       "18                                                NaN   \n",
       "19                                                NaN   \n",
       "20                                                NaN   \n",
       "21  Profit and nonprofit businesses, the public, m...   \n",
       "22  Second service and nonprofit businesses, the p...   \n",
       "\n",
       "                                          description  \\\n",
       "18  Provides free medical and dental care to those...   \n",
       "19              no unrequired fields for this service   \n",
       "20                                just a test service   \n",
       "21  [NOTE THIS IS NOT A REAL SERVICE--THIS IS FOR ...   \n",
       "22  [NOTE THIS IS NOT A REAL ORGANIZATION--THIS IS...   \n",
       "\n",
       "                                        eligibility                  email  \\\n",
       "18  Low-income person without access to health care                    NaN   \n",
       "19                                              NaN                    NaN   \n",
       "20                                              NaN                    NaN   \n",
       "21                                             None  passports@example.org   \n",
       "22                                             None                    NaN   \n",
       "\n",
       "    ...                            interpretation_services  \\\n",
       "18  ...                                                NaN   \n",
       "19  ...                                                NaN   \n",
       "20  ...                                                NaN   \n",
       "21  ...  We offer 3-way interpretation services over th...   \n",
       "22  ...                                                NaN   \n",
       "\n",
       "                                             keywords languages  \\\n",
       "18  HEALTH SERVICES, Outpatient Care, Community Cl...       NaN   \n",
       "19                                                NaN       NaN   \n",
       "20                                                NaN       NaN   \n",
       "21                                    Salud, Medicina   Spanish   \n",
       "22         Ruby on Rails/Postgres/Redis, testing, wic       NaN   \n",
       "\n",
       "                               name                        required_documents  \\\n",
       "18    San Mateo Free Medical Clinic                                       NaN   \n",
       "19        Service with blank fields                                       NaN   \n",
       "20  Service for Admin Test Location                                       NaN   \n",
       "21                  Passport Photos  Government-issued picture identification   \n",
       "22             Example Service Name                                       NaN   \n",
       "\n",
       "                       service_areas    status            wait_time  \\\n",
       "18               Belmont, Burlingame    active              Varies.   \n",
       "19                               NaN   defunct                  NaN   \n",
       "20                  San Mateo County  inactive                  NaN   \n",
       "21  Alameda County, San Mateo County    active  No wait to 2 weeks.   \n",
       "22  San Mateo County, Alameda County    active   No wait to 2 weeks   \n",
       "\n",
       "                   website                              taxonomy_ids  \n",
       "18                     NaN                                       NaN  \n",
       "19                     NaN                                       NaN  \n",
       "20                     NaN                                       NaN  \n",
       "21  http://www.example.com  105, 108, 108-05, 108-05-01, 111, 111-05  \n",
       "22  http://www.example.com                                       NaN  \n",
       "\n",
       "[5 rows x 22 columns]"
      ]
     },
     "execution_count": 6,
     "metadata": {},
     "output_type": "execute_result"
    }
   ],
   "source": [
    "import pandas as pd\n",
    "df = pd.read_csv('services.csv')\n",
    "df.tail()"
   ]
  },
  {
   "cell_type": "markdown",
   "id": "7410a1af",
   "metadata": {},
   "source": [
    "pandas.DataFrame.describe()"
   ]
  },
  {
   "cell_type": "code",
   "execution_count": 7,
   "id": "567ae6ba",
   "metadata": {},
   "outputs": [
    {
     "data": {
      "text/html": [
       "<div>\n",
       "<style scoped>\n",
       "    .dataframe tbody tr th:only-of-type {\n",
       "        vertical-align: middle;\n",
       "    }\n",
       "\n",
       "    .dataframe tbody tr th {\n",
       "        vertical-align: top;\n",
       "    }\n",
       "\n",
       "    .dataframe thead th {\n",
       "        text-align: right;\n",
       "    }\n",
       "</style>\n",
       "<table border=\"1\" class=\"dataframe\">\n",
       "  <thead>\n",
       "    <tr style=\"text-align: right;\">\n",
       "      <th></th>\n",
       "      <th>id</th>\n",
       "      <th>location_id</th>\n",
       "      <th>program_id</th>\n",
       "    </tr>\n",
       "  </thead>\n",
       "  <tbody>\n",
       "    <tr>\n",
       "      <th>count</th>\n",
       "      <td>23.00000</td>\n",
       "      <td>23.000000</td>\n",
       "      <td>0.0</td>\n",
       "    </tr>\n",
       "    <tr>\n",
       "      <th>mean</th>\n",
       "      <td>12.00000</td>\n",
       "      <td>11.956522</td>\n",
       "      <td>NaN</td>\n",
       "    </tr>\n",
       "    <tr>\n",
       "      <th>std</th>\n",
       "      <td>6.78233</td>\n",
       "      <td>6.711444</td>\n",
       "      <td>NaN</td>\n",
       "    </tr>\n",
       "    <tr>\n",
       "      <th>min</th>\n",
       "      <td>1.00000</td>\n",
       "      <td>1.000000</td>\n",
       "      <td>NaN</td>\n",
       "    </tr>\n",
       "    <tr>\n",
       "      <th>25%</th>\n",
       "      <td>6.50000</td>\n",
       "      <td>6.500000</td>\n",
       "      <td>NaN</td>\n",
       "    </tr>\n",
       "    <tr>\n",
       "      <th>50%</th>\n",
       "      <td>12.00000</td>\n",
       "      <td>12.000000</td>\n",
       "      <td>NaN</td>\n",
       "    </tr>\n",
       "    <tr>\n",
       "      <th>75%</th>\n",
       "      <td>17.50000</td>\n",
       "      <td>17.500000</td>\n",
       "      <td>NaN</td>\n",
       "    </tr>\n",
       "    <tr>\n",
       "      <th>max</th>\n",
       "      <td>23.00000</td>\n",
       "      <td>22.000000</td>\n",
       "      <td>NaN</td>\n",
       "    </tr>\n",
       "  </tbody>\n",
       "</table>\n",
       "</div>"
      ],
      "text/plain": [
       "             id  location_id  program_id\n",
       "count  23.00000    23.000000         0.0\n",
       "mean   12.00000    11.956522         NaN\n",
       "std     6.78233     6.711444         NaN\n",
       "min     1.00000     1.000000         NaN\n",
       "25%     6.50000     6.500000         NaN\n",
       "50%    12.00000    12.000000         NaN\n",
       "75%    17.50000    17.500000         NaN\n",
       "max    23.00000    22.000000         NaN"
      ]
     },
     "execution_count": 7,
     "metadata": {},
     "output_type": "execute_result"
    }
   ],
   "source": [
    "import pandas as pd\n",
    "df = pd.read_csv('services.csv')\n",
    "df.describecribe()"
   ]
  },
  {
   "cell_type": "markdown",
   "id": "3bd131af",
   "metadata": {},
   "source": [
    "Q2. Given a Pandas DataFrame df with columns 'A', 'B', and 'C', write a Python function to re-index the\n",
    "DataFrame with a new index that starts from 1 and increments by 2 for each row."
   ]
  },
  {
   "cell_type": "code",
   "execution_count": 8,
   "id": "52746731",
   "metadata": {},
   "outputs": [
    {
     "name": "stdout",
     "output_type": "stream",
     "text": [
      "   A  B  C\n",
      "0  1  4  7\n",
      "1  2  5  8\n",
      "2  3  6  9\n"
     ]
    }
   ],
   "source": [
    "import numpy as np\n",
    "\n",
    "df = pd.DataFrame({'A': [1, 2, 3], 'B': [4, 5, 6], 'C': [7, 8, 9]})\n",
    "print(df)"
   ]
  },
  {
   "cell_type": "code",
   "execution_count": 12,
   "id": "4028553c",
   "metadata": {},
   "outputs": [
    {
     "name": "stdout",
     "output_type": "stream",
     "text": [
      "   A  B  C\n",
      "1  1  4  7\n",
      "3  2  5  8\n",
      "5  3  6  9\n"
     ]
    }
   ],
   "source": [
    "def re_indexing(df):\n",
    "    new_index = pd.RangeIndex(start=1,stop=df.shape[0]*2,step=2)\n",
    "    df.index = new_index\n",
    "    return df\n",
    "    \n",
    "new_df = re_indexing(df)\n",
    "print(new_df)"
   ]
  },
  {
   "cell_type": "markdown",
   "id": "cc5bb1d6",
   "metadata": {},
   "source": [
    "Q3. You have a Pandas DataFrame df with a column named 'Values'. Write a Python function that\n",
    "iterates over the DataFrame and calculates the sum of the first three values in the 'Values' column. The\n",
    "function should print the sum to the console."
   ]
  },
  {
   "cell_type": "code",
   "execution_count": 15,
   "id": "ac696b25",
   "metadata": {},
   "outputs": [
    {
     "name": "stdout",
     "output_type": "stream",
     "text": [
      "   Values\n",
      "0      10\n",
      "1      20\n",
      "2      30\n",
      "3      40\n",
      "4      50\n",
      "5      60\n",
      "The sum of the first three values are : 60\n"
     ]
    }
   ],
   "source": [
    "\n",
    "def sum_three_values(df):\n",
    "    sum = 0\n",
    "    for i,row in df.iterrows():\n",
    "        if i<3:\n",
    "            sum += row['Values']\n",
    "        else:\n",
    "            break\n",
    "    print(\"The sum of the first three values are :\",sum)       \n",
    "\n",
    "data = {\"Values\":[10,20,30,40,50,60]}\n",
    "df = pd.DataFrame(data)\n",
    "print(df)\n",
    "sum_three_values(df)"
   ]
  },
  {
   "cell_type": "markdown",
   "id": "adc96afa",
   "metadata": {},
   "source": [
    "Q4. Given a Pandas DataFrame df with a column 'Text', write a Python function to create a new column\n",
    "'Word_Count' that contains the number of words in each row of the 'Text' column."
   ]
  },
  {
   "cell_type": "code",
   "execution_count": 20,
   "id": "023ca16c",
   "metadata": {},
   "outputs": [
    {
     "name": "stdout",
     "output_type": "stream",
     "text": [
      "                       Text\n",
      "0                     Hello\n",
      "1         My name is Rounak\n",
      "2  I am a software Enginner\n",
      "                       Text  Word_count\n",
      "0                     Hello           1\n",
      "1         My name is Rounak           4\n",
      "2  I am a software Enginner           5\n"
     ]
    }
   ],
   "source": [
    "def total_word_count(df):\n",
    "    df['Word_count'] = df['Text'].str.split().apply(len)\n",
    "    return df\n",
    "\n",
    "data = {\n",
    "    'Text':['Hello','My name is Rounak','I am a software Enginner']\n",
    "}\n",
    "\n",
    "df = pd.DataFrame(data)\n",
    "print(df)\n",
    "word_count = total_word_count(df)\n",
    "print(word_count)"
   ]
  },
  {
   "cell_type": "markdown",
   "id": "9045628a",
   "metadata": {},
   "source": [
    "Q5. How are DataFrame.size() and DataFrame.shape() different?"
   ]
  },
  {
   "cell_type": "markdown",
   "id": "67b7d061",
   "metadata": {},
   "source": [
    "DataFrame.size() returns the total number of elements in the DataFrame, which is the product of the number of rows and the number of columns:"
   ]
  },
  {
   "cell_type": "markdown",
   "id": "3ea06fce",
   "metadata": {},
   "source": [
    "DataFrame.shape() returns a tuple that contains the number of rows and the number of columns in the DataFrame:"
   ]
  },
  {
   "cell_type": "markdown",
   "id": "775f48c4",
   "metadata": {},
   "source": [
    "Q6. Which function of pandas do we use to read an excel file?"
   ]
  },
  {
   "cell_type": "markdown",
   "id": "c81a9b92",
   "metadata": {},
   "source": [
    "pd.read_excel() is used in pandas to read an excel file"
   ]
  },
  {
   "cell_type": "markdown",
   "id": "4e1695ef",
   "metadata": {},
   "source": [
    "Q7. You have a Pandas DataFrame df that contains a column named 'Email' that contains email\n",
    "addresses in the format 'username@domain.com'. Write a Python function that creates a new column\n",
    "'Username' in df that contains only the username part of each email address.\n",
    "The username is the part of the email address that appears before the '@' symbol. For example, if the\n",
    "email address is 'john.doe@example.com', the 'Username' column should contain 'john.doe'. Your\n",
    "function should extract the username from each email address and store it in the new 'Username'\n",
    "column."
   ]
  },
  {
   "cell_type": "code",
   "execution_count": 31,
   "id": "bfa8f73d",
   "metadata": {},
   "outputs": [
    {
     "name": "stdout",
     "output_type": "stream",
     "text": [
      "                  Email\n",
      "0   username@domain.com\n",
      "1  john.doe@example.com\n",
      "                  Email  Username\n",
      "0   username@domain.com  username\n",
      "1  john.doe@example.com  john.doe\n"
     ]
    }
   ],
   "source": [
    "def addUsername(df):\n",
    "    df['Username'] = df['Email'].str.split('@').str[0]\n",
    "    return df\n",
    "\n",
    "data = {\n",
    "    'Email':['username@domain.com', 'john.doe@example.com']\n",
    "}\n",
    "\n",
    "df = pd.DataFrame(data)\n",
    "print(df)\n",
    "\n",
    "add_username = addUsername(df)\n",
    "print(add_username)"
   ]
  },
  {
   "cell_type": "markdown",
   "id": "1ac5cd0d",
   "metadata": {},
   "source": [
    "Q8. You have a Pandas DataFrame df with columns 'A', 'B', and 'C'. Write a Python function that selects\n",
    "all rows where the value in column 'A' is greater than 5 and the value in column 'B' is less than 10. The\n",
    "function should return a new DataFrame that contains only the selected rows.\n",
    "For example, if df contains the following values:\n",
    "A B C\n",
    "0 3 5 1\n",
    "1 8 2 7\n",
    "2 6 9 4\n",
    "3 2 3 5\n",
    "4 9 1 2"
   ]
  },
  {
   "cell_type": "code",
   "execution_count": 12,
   "id": "a9cf445e",
   "metadata": {},
   "outputs": [],
   "source": [
    "import pandas as pd\n",
    "\n",
    "def select_rows(df):\n",
    "    new_df = df.loc[(df['A'] > 5) & (df['B'] < 10)]\n",
    "    return new_df\n",
    "\n",
    "\n"
   ]
  },
  {
   "cell_type": "code",
   "execution_count": 13,
   "id": "24c5df1f",
   "metadata": {},
   "outputs": [
    {
     "name": "stdout",
     "output_type": "stream",
     "text": [
      "   A  B  C\n",
      "1  8  2  7\n",
      "2  6  9  4\n",
      "4  9  1  2\n"
     ]
    }
   ],
   "source": [
    "df = pd.DataFrame({\n",
    "    'A': [3, 8, 6, 2, 9],\n",
    "    'B': [5, 2, 9, 3, 1],\n",
    "    'C': [1, 7, 4, 5, 2]\n",
    "})\n",
    "\n",
    "new_df = select_rows(df)\n",
    "print(new_df)"
   ]
  },
  {
   "cell_type": "markdown",
   "id": "48652623",
   "metadata": {},
   "source": [
    "Q9. Given a Pandas DataFrame df with a column 'Values', write a Python function to calculate the mean,\n",
    "median, and standard deviation of the values in the 'Values' column."
   ]
  },
  {
   "cell_type": "code",
   "execution_count": 14,
   "id": "26ea6a39",
   "metadata": {},
   "outputs": [],
   "source": [
    "import pandas as pd\n",
    "\n",
    "def calculate_stats(df):\n",
    "    mean = df['Values'].mean()\n",
    "    median = df['Values'].median()\n",
    "    std = df['Values'].std()\n",
    "    return mean, median, std"
   ]
  },
  {
   "cell_type": "code",
   "execution_count": 15,
   "id": "78ef759a",
   "metadata": {},
   "outputs": [
    {
     "name": "stdout",
     "output_type": "stream",
     "text": [
      "Mean: 3.0\n",
      "Median: 3.0\n",
      "Standard deviation: 1.5811388300841898\n"
     ]
    }
   ],
   "source": [
    "df = pd.DataFrame({\n",
    "    'Values': [1, 2, 3, 4, 5]\n",
    "})\n",
    "\n",
    "mean, median, std = calculate_stats(df)\n",
    "print(\"Mean:\", mean)\n",
    "print(\"Median:\", median)\n",
    "print(\"Standard deviation:\", std)"
   ]
  },
  {
   "cell_type": "markdown",
   "id": "fe490fcf",
   "metadata": {},
   "source": [
    "Q11. You have a Pandas DataFrame df with a column 'Date'. Write a Python function that creates a new\n",
    "column 'Weekday' in the DataFrame. The 'Weekday' column should contain the weekday name (e.g.\n",
    "Monday, Tuesday) corresponding to each date in the 'Date' column.\n",
    "For example, if df contains the following values:\n",
    "Date\n",
    "0 2023-01-01\n",
    "1 2023-01-02\n",
    "2 2023-01-03\n",
    "3 2023-01-04\n",
    "4 2023-01-05"
   ]
  },
  {
   "cell_type": "code",
   "execution_count": 23,
   "id": "4ff0dc22",
   "metadata": {},
   "outputs": [
    {
     "name": "stdout",
     "output_type": "stream",
     "text": [
      "         Date     Weekly\n",
      "0  2023-01-01     Sunday\n",
      "1  2023-01-02     Monday\n",
      "2  2023-01-03    Tuesday\n",
      "3  2023-01-04  Wednesday\n",
      "4  2023-01-05   Thursday\n"
     ]
    }
   ],
   "source": [
    "\n",
    "\n",
    "def weekday_column(df):\n",
    "    df['Weekly'] = pd.to_datetime(df['Date']).dt.day_name()\n",
    "    return df\n",
    "\n",
    "df = pd.DataFrame({\n",
    "    'Date': ['2023-01-01', '2023-01-02', '2023-01-03', '2023-01-04', '2023-01-05']\n",
    "})\n",
    "\n",
    "df = weekday_column(df)\n",
    "print(df)"
   ]
  },
  {
   "cell_type": "markdown",
   "id": "298385ab",
   "metadata": {},
   "source": [
    "Q12. Given a Pandas DataFrame df with a column 'Date' that contains timestamps, write a Python\n",
    "function to select all rows where the date is between '2023-01-01' and '2023-01-31'."
   ]
  },
  {
   "cell_type": "code",
   "execution_count": null,
   "id": "a846b2c7",
   "metadata": {},
   "outputs": [],
   "source": [
    "def select_january_rows(df):\n",
    "    mask = (df['Date'] >= '2023-01-01') & (df['Date'] <= '2023-01-31')\n",
    "    january_df = df.loc[mask]\n",
    "    return january_df"
   ]
  },
  {
   "cell_type": "code",
   "execution_count": 27,
   "id": "cccc69a6",
   "metadata": {},
   "outputs": [
    {
     "name": "stdout",
     "output_type": "stream",
     "text": [
      "         Date  Value\n",
      "0  2023-01-01      1\n",
      "1  2023-01-02      2\n",
      "2  2023-01-03      3\n"
     ]
    }
   ],
   "source": [
    "df = pd.DataFrame({\n",
    "    'Date': ['2023-01-01', '2023-01-02', '2023-01-03', '2023-02-01', '2023-02-02'],\n",
    "    'Value': [1, 2, 3, 4, 5]\n",
    "})\n",
    "\n",
    "january_df = select_january_rows(df)\n",
    "print(january_df)"
   ]
  },
  {
   "cell_type": "markdown",
   "id": "cfaac46b",
   "metadata": {},
   "source": [
    "Q13. To use the basic functions of pandas, what is the first and foremost necessary library that needs to\n",
    "be imported?"
   ]
  },
  {
   "cell_type": "code",
   "execution_count": 29,
   "id": "6999b755",
   "metadata": {},
   "outputs": [],
   "source": [
    "import pandas as pd"
   ]
  },
  {
   "cell_type": "code",
   "execution_count": null,
   "id": "16b2575a",
   "metadata": {},
   "outputs": [],
   "source": []
  }
 ],
 "metadata": {
  "kernelspec": {
   "display_name": "Python 3 (ipykernel)",
   "language": "python",
   "name": "python3"
  },
  "language_info": {
   "codemirror_mode": {
    "name": "ipython",
    "version": 3
   },
   "file_extension": ".py",
   "mimetype": "text/x-python",
   "name": "python",
   "nbconvert_exporter": "python",
   "pygments_lexer": "ipython3",
   "version": "3.8.10"
  }
 },
 "nbformat": 4,
 "nbformat_minor": 5
}
