{
 "cells": [
  {
   "cell_type": "markdown",
   "id": "49513c30",
   "metadata": {},
   "source": [
    "Q1. What is a database? Differentiate between SQL and NoSQL databases."
   ]
  },
  {
   "cell_type": "markdown",
   "id": "1eebfc85",
   "metadata": {},
   "source": [
    "A database is a structured collection of data that can be accessed, managed, and updated. It can store information such as customer details, product information, and financial data."
   ]
  },
  {
   "cell_type": "markdown",
   "id": "0e69c1f1",
   "metadata": {},
   "source": [
    "SQL databases are based on the relational model, which means that data is organized in tables, and each table has a predefined structure with columns and rows."
   ]
  },
  {
   "cell_type": "markdown",
   "id": "610a3c7a",
   "metadata": {},
   "source": [
    "NoSQL databases, on the other hand, use a variety of data models such as document-based, key-value, column-based, and graph-based. "
   ]
  },
  {
   "cell_type": "markdown",
   "id": "285a7e5b",
   "metadata": {},
   "source": [
    "Q2. What is DDL? Explain why CREATE, DROP, ALTER, and TRUNCATE are used with an example."
   ]
  },
  {
   "cell_type": "markdown",
   "id": "c1169f00",
   "metadata": {},
   "source": [
    " DDL stands for Data Definition Language.DDL statements are used to define, modify, and delete database objects."
   ]
  },
  {
   "cell_type": "markdown",
   "id": "bd32d676",
   "metadata": {},
   "source": [
    "CREATE: CREATE is used for creating table,databases,views,indexes"
   ]
  },
  {
   "cell_type": "markdown",
   "id": "fa01b83a",
   "metadata": {},
   "source": [
    "CREATE TABLE EMPLOYEE(\n",
    " ID INT PRIMARY KEY,\n",
    " NAME VARCHAR(10),\n",
    " AGE INT   \n",
    ");"
   ]
  },
  {
   "cell_type": "markdown",
   "id": "06e63c0d",
   "metadata": {},
   "source": [
    "DROP: The DROP statement is used to delete an existing database object, such as a table, view, or stored procedure. Here's an example of dropping a table named \"orders\":"
   ]
  },
  {
   "cell_type": "markdown",
   "id": "a147efaf",
   "metadata": {},
   "source": [
    "DROP TABLE orders;"
   ]
  },
  {
   "cell_type": "markdown",
   "id": "e1873024",
   "metadata": {},
   "source": [
    "ALTER: The ALTER statement is used to modify an existing database object,"
   ]
  },
  {
   "cell_type": "markdown",
   "id": "80104bac",
   "metadata": {},
   "source": [
    "ALTER TABLE EMPLOYEE ADD COLUMN ADDRESS VARCHAR(200)"
   ]
  },
  {
   "cell_type": "markdown",
   "id": "d6bdab2e",
   "metadata": {},
   "source": [
    "TRUNCATE: The TRUNCATE statement is used to remove all the data from a table"
   ]
  },
  {
   "cell_type": "markdown",
   "id": "db0a6925",
   "metadata": {},
   "source": [
    "TRUNCATE TABLE orders;"
   ]
  },
  {
   "cell_type": "markdown",
   "id": "bb8102d5",
   "metadata": {},
   "source": [
    "Q3. What is DML? Explain INSERT, UPDATE, and DELETE with an example."
   ]
  },
  {
   "cell_type": "markdown",
   "id": "70bd284b",
   "metadata": {},
   "source": [
    "DML stands for data manupulation language.It is used to insert , delete , update data in database"
   ]
  },
  {
   "cell_type": "markdown",
   "id": "90fcd565",
   "metadata": {},
   "source": [
    "INSERT: The INSERT statement is used to insert new data into a table"
   ]
  },
  {
   "cell_type": "markdown",
   "id": "f649cf53",
   "metadata": {},
   "source": [
    "INSERT INTO customers (id,name,age,email) VALUES(1,\"Rounak Dipta Ghosh\",23,\"rounak.@gmail.com\")"
   ]
  },
  {
   "cell_type": "markdown",
   "id": "91e5c0c7",
   "metadata": {},
   "source": [
    "UPDATE: The UPDATE statement is used to modify existing data in a table."
   ]
  },
  {
   "cell_type": "markdown",
   "id": "ce5558e0",
   "metadata": {},
   "source": [
    "UPDATE customers SET email = \"new@gmail.com\" where id = 1;"
   ]
  },
  {
   "cell_type": "markdown",
   "id": "f7bd0a94",
   "metadata": {},
   "source": [
    "DELETE: The DELETE statement is used to remove data from a table"
   ]
  },
  {
   "cell_type": "markdown",
   "id": "e12a51c2",
   "metadata": {},
   "source": [
    "DELETE FROM customers WHERE id = 2;"
   ]
  },
  {
   "cell_type": "markdown",
   "id": "46acff62",
   "metadata": {},
   "source": [
    "Q4. What is DQL? Explain SELECT with an example."
   ]
  },
  {
   "cell_type": "markdown",
   "id": "c67e2c15",
   "metadata": {},
   "source": [
    "DQL stands for Data Query Language,DQL statements are used to query the contents of database objects such as tables, views, and stored procedures"
   ]
  },
  {
   "cell_type": "markdown",
   "id": "49204b03",
   "metadata": {},
   "source": [
    "SELECT: SELECT *FROM customers : It is used for retrive all data from customers database\n"
   ]
  },
  {
   "cell_type": "markdown",
   "id": "a4147c3b",
   "metadata": {},
   "source": [
    "SELECT With WHERE clause:select with where clause is used for specific field to retrive."
   ]
  },
  {
   "cell_type": "markdown",
   "id": "f8bde93e",
   "metadata": {},
   "source": [
    "SELECT * FROM customers where age>25"
   ]
  },
  {
   "cell_type": "markdown",
   "id": "3f112b02",
   "metadata": {},
   "source": [
    "SELECT with ORDER BY clause: The ORDER BY clause is used to sort the results based on one or more columns"
   ]
  },
  {
   "cell_type": "markdown",
   "id": "b00462ce",
   "metadata": {},
   "source": [
    "SELECT * FROM customers ORDER BY name;"
   ]
  },
  {
   "cell_type": "markdown",
   "id": "ec9e4879",
   "metadata": {},
   "source": [
    "SELECT with LIMIT clause: The LIMIT clause is used to limit the number of rows returned by a query. "
   ]
  },
  {
   "cell_type": "markdown",
   "id": "5b4377d2",
   "metadata": {},
   "source": [
    "SELECT * FROM customers LIMIT 10;\n"
   ]
  },
  {
   "cell_type": "markdown",
   "id": "d22007c6",
   "metadata": {},
   "source": [
    "Q5. Explain Primary Key and Foreign Key."
   ]
  },
  {
   "cell_type": "markdown",
   "id": "bd927c9c",
   "metadata": {},
   "source": [
    "Primary Key: A primary key is a column or a set of columns in a table that uniquely identifies each row in the table. The primary key constraint is used to ensure that the values in the column(s) are unique and not null."
   ]
  },
  {
   "cell_type": "markdown",
   "id": "bf8db849",
   "metadata": {},
   "source": [
    "Foreign Key: A foreign key is a column or a set of columns in a table that refers to the primary key of another table. The foreign key constraint is used to ensure that the values in the column(s) match the values in the primary key of the other table or are null."
   ]
  },
  {
   "cell_type": "markdown",
   "id": "d7c932dd",
   "metadata": {},
   "source": [
    "Q6. Write a python code to connect MySQL to python. Explain the cursor() and execute() method."
   ]
  },
  {
   "cell_type": "markdown",
   "id": "e97b74f3",
   "metadata": {},
   "source": [
    "import mysql.connector\n",
    "\n",
    "mydb = mysql.connector.connect(\n",
    "    host=\"localhost\"\n",
    "    username = \"username\"\n",
    "    password = \"password\"\n",
    "    database = \"dtabaseName\"\n",
    ")\n",
    "\n",
    "mycursor = mydb.cursor()\n",
    "mycursor.execute(\"SELECT * FROM tablename\")\n",
    "result = mycursor.fetchall()\n",
    "\n",
    "for i in result:\n",
    "    print(i)\n",
    "\n"
   ]
  },
  {
   "cell_type": "markdown",
   "id": "173574b1",
   "metadata": {},
   "source": [
    "cursor():A cursor is an object that allows us to interact with the database and execute queries."
   ]
  },
  {
   "cell_type": "markdown",
   "id": "e7f7bf07",
   "metadata": {},
   "source": [
    "We can then use the execute() method of the cursor object to execute a query on the database."
   ]
  },
  {
   "cell_type": "markdown",
   "id": "a7ababb0",
   "metadata": {},
   "source": [
    "Q7. Give the order of execution of SQL clauses in an SQL query."
   ]
  },
  {
   "cell_type": "markdown",
   "id": "339df0c4",
   "metadata": {},
   "source": [
    "FROM -- WHERE--GROUPBY--HAVING--SELECT--ORDERBY--LIMIT"
   ]
  },
  {
   "cell_type": "code",
   "execution_count": null,
   "id": "ead8aaeb",
   "metadata": {},
   "outputs": [],
   "source": []
  }
 ],
 "metadata": {
  "kernelspec": {
   "display_name": "Python 3 (ipykernel)",
   "language": "python",
   "name": "python3"
  },
  "language_info": {
   "codemirror_mode": {
    "name": "ipython",
    "version": 3
   },
   "file_extension": ".py",
   "mimetype": "text/x-python",
   "name": "python",
   "nbconvert_exporter": "python",
   "pygments_lexer": "ipython3",
   "version": "3.8.10"
  }
 },
 "nbformat": 4,
 "nbformat_minor": 5
}
