{
 "cells": [
  {
   "cell_type": "markdown",
   "id": "d6ed752c",
   "metadata": {},
   "source": [
    "Q1. What is a database? Differentiate between SQL and NoSQL databases."
   ]
  },
  {
   "cell_type": "markdown",
   "id": "8cab31bd",
   "metadata": {},
   "source": [
    "A database is a structured collection of data that can be accessed, managed, and updated. It can store information such as customer details, product information, and financial data."
   ]
  },
  {
   "cell_type": "markdown",
   "id": "ae9e01b1",
   "metadata": {},
   "source": [
    "SQL databases are based on the relational model, which means that data is organized in tables, and each table has a predefined structure with columns and rows."
   ]
  },
  {
   "cell_type": "markdown",
   "id": "081d518a",
   "metadata": {},
   "source": [
    "NoSQL databases, on the other hand, use a variety of data models such as document-based, key-value, column-based, and graph-based. "
   ]
  },
  {
   "cell_type": "markdown",
   "id": "8165ad3c",
   "metadata": {},
   "source": [
    "Q2. What is DDL? Explain why CREATE, DROP, ALTER, and TRUNCATE are used with an example."
   ]
  },
  {
   "cell_type": "markdown",
   "id": "0b4f8d57",
   "metadata": {},
   "source": [
    " DDL stands for Data Definition Language.DDL statements are used to define, modify, and delete database objects."
   ]
  },
  {
   "cell_type": "markdown",
   "id": "e4ef4151",
   "metadata": {},
   "source": [
    "CREATE: CREATE is used for creating table,databases,views,indexes"
   ]
  },
  {
   "cell_type": "raw",
   "id": "07e4f7d4",
   "metadata": {},
   "source": [
    "CREATE TABLE EMPLOYEE(\n",
    " ID INT PRIMARY KEY,\n",
    " NAME VARCHAR(10),\n",
    " AGE INT   \n",
    ");"
   ]
  },
  {
   "cell_type": "markdown",
   "id": "7bb271a9",
   "metadata": {},
   "source": [
    "DROP: The DROP statement is used to delete an existing database object, such as a table, view, or stored procedure. Here's an example of dropping a table named \"orders\":"
   ]
  },
  {
   "cell_type": "raw",
   "id": "5542e8bc",
   "metadata": {},
   "source": [
    "DROP TABLE orders;"
   ]
  },
  {
   "cell_type": "markdown",
   "id": "24c7d058",
   "metadata": {},
   "source": [
    "ALTER: The ALTER statement is used to modify an existing database object,"
   ]
  },
  {
   "cell_type": "raw",
   "id": "4f1ffcb4",
   "metadata": {},
   "source": [
    "ALTER TABLE EMPLOYEE ADD COLUMN ADDRESS VARCHAR(200)"
   ]
  },
  {
   "cell_type": "markdown",
   "id": "98339805",
   "metadata": {},
   "source": [
    "TRUNCATE: The TRUNCATE statement is used to remove all the data from a table"
   ]
  },
  {
   "cell_type": "raw",
   "id": "ae3831a6",
   "metadata": {},
   "source": [
    "TRUNCATE TABLE orders;"
   ]
  },
  {
   "cell_type": "markdown",
   "id": "68b6f2c8",
   "metadata": {},
   "source": [
    "Q3. What is DML? Explain INSERT, UPDATE, and DELETE with an example."
   ]
  },
  {
   "cell_type": "markdown",
   "id": "0be166a3",
   "metadata": {},
   "source": [
    "DML stands for data manupulation language.It is used to insert , delete , update data in database"
   ]
  },
  {
   "cell_type": "markdown",
   "id": "e1740ff5",
   "metadata": {},
   "source": [
    "INSERT: The INSERT statement is used to insert new data into a table"
   ]
  },
  {
   "cell_type": "raw",
   "id": "31c4e7cf",
   "metadata": {},
   "source": [
    "INSERT INTO customers (id,name,age,email) VALUES(1,\"Rounak Dipta Ghosh\",23,\"rounak.@gmail.com\")"
   ]
  },
  {
   "cell_type": "markdown",
   "id": "a5bb80c3",
   "metadata": {},
   "source": [
    "UPDATE: The UPDATE statement is used to modify existing data in a table."
   ]
  },
  {
   "cell_type": "raw",
   "id": "febefb72",
   "metadata": {},
   "source": [
    "UPDATE customers SET email = \"new@gmail.com\" where id = 1;"
   ]
  },
  {
   "cell_type": "markdown",
   "id": "1f53ed85",
   "metadata": {},
   "source": [
    "DELETE: The DELETE statement is used to remove data from a table"
   ]
  },
  {
   "cell_type": "markdown",
   "id": "7edc2b9d",
   "metadata": {},
   "source": [
    "DELETE FROM customers WHERE id = 2;"
   ]
  },
  {
   "cell_type": "markdown",
   "id": "48c85244",
   "metadata": {},
   "source": [
    "Q4. What is DQL? Explain SELECT with an example."
   ]
  },
  {
   "cell_type": "markdown",
   "id": "f9507b2d",
   "metadata": {},
   "source": [
    "DQL stands for Data Query Language,DQL statements are used to query the contents of database objects such as tables, views, and stored procedures"
   ]
  },
  {
   "cell_type": "markdown",
   "id": "17277d15",
   "metadata": {},
   "source": [
    "SELECT: SELECT *FROM customers : It is used for retrive all data from customers database\n"
   ]
  },
  {
   "cell_type": "markdown",
   "id": "b3db4322",
   "metadata": {},
   "source": [
    "SELECT With WHERE clause:select with where clause is used for specific field to retrive."
   ]
  },
  {
   "cell_type": "raw",
   "id": "ba683322",
   "metadata": {},
   "source": [
    "SELECT * FROM customers where age>25"
   ]
  },
  {
   "cell_type": "markdown",
   "id": "03fde8f3",
   "metadata": {},
   "source": [
    "SELECT with ORDER BY clause: The ORDER BY clause is used to sort the results based on one or more columns"
   ]
  },
  {
   "cell_type": "raw",
   "id": "c01ce74c",
   "metadata": {},
   "source": [
    "SELECT * FROM customers ORDER BY name;"
   ]
  },
  {
   "cell_type": "markdown",
   "id": "b47be1db",
   "metadata": {},
   "source": [
    "SELECT with LIMIT clause: The LIMIT clause is used to limit the number of rows returned by a query. "
   ]
  },
  {
   "cell_type": "raw",
   "id": "c7226f9a",
   "metadata": {},
   "source": [
    "SELECT * FROM customers LIMIT 10;\n"
   ]
  },
  {
   "cell_type": "markdown",
   "id": "48249a22",
   "metadata": {},
   "source": [
    "Q5. Explain Primary Key and Foreign Key."
   ]
  },
  {
   "cell_type": "markdown",
   "id": "db7a15ae",
   "metadata": {},
   "source": [
    "Primary Key: A primary key is a column or a set of columns in a table that uniquely identifies each row in the table. The primary key constraint is used to ensure that the values in the column(s) are unique and not null."
   ]
  },
  {
   "cell_type": "markdown",
   "id": "34e67734",
   "metadata": {},
   "source": [
    "Foreign Key: A foreign key is a column or a set of columns in a table that refers to the primary key of another table. The foreign key constraint is used to ensure that the values in the column(s) match the values in the primary key of the other table or are null."
   ]
  },
  {
   "cell_type": "markdown",
   "id": "f669fe28",
   "metadata": {},
   "source": [
    "Q6. Write a python code to connect MySQL to python. Explain the cursor() and execute() method."
   ]
  },
  {
   "cell_type": "raw",
   "id": "fce9e2bb",
   "metadata": {},
   "source": [
    "import mysql.connector\n",
    "\n",
    "mydb = mysql.connector.connect(\n",
    "    host=\"localhost\"\n",
    "    username = \"username\"\n",
    "    password = \"password\"\n",
    "    database = \"dtabaseName\"\n",
    ")\n",
    "\n",
    "mycursor = mydb.cursor()\n",
    "mycursor.execute(\"SELECT * FROM tablename\")\n",
    "result = mycursor.fetchall()\n",
    "\n",
    "for i in result:\n",
    "    print(i)\n",
    "\n"
   ]
  },
  {
   "cell_type": "markdown",
   "id": "43b6ebf3",
   "metadata": {},
   "source": [
    "cursor():A cursor is an object that allows us to interact with the database and execute queries."
   ]
  },
  {
   "cell_type": "markdown",
   "id": "25e303ee",
   "metadata": {},
   "source": [
    "We can then use the execute() method of the cursor object to execute a query on the database."
   ]
  },
  {
   "cell_type": "markdown",
   "id": "248f46b2",
   "metadata": {},
   "source": [
    "Q7. Give the order of execution of SQL clauses in an SQL query."
   ]
  },
  {
   "cell_type": "markdown",
   "id": "c1146fc7",
   "metadata": {},
   "source": [
    "FROM -- WHERE--GROUPBY--HAVING--SELECT--ORDERBY--LIMIT"
   ]
  },
  {
   "cell_type": "code",
   "execution_count": null,
   "id": "18baf9a4",
   "metadata": {},
   "outputs": [],
   "source": []
  }
 ],
 "metadata": {
  "kernelspec": {
   "display_name": "Python 3 (ipykernel)",
   "language": "python",
   "name": "python3"
  },
  "language_info": {
   "codemirror_mode": {
    "name": "ipython",
    "version": 3
   },
   "file_extension": ".py",
   "mimetype": "text/x-python",
   "name": "python",
   "nbconvert_exporter": "python",
   "pygments_lexer": "ipython3",
   "version": "3.8.10"
  }
 },
 "nbformat": 4,
 "nbformat_minor": 5
}
