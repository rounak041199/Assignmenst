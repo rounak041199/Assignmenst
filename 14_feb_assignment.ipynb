{
 "cells": [
  {
   "cell_type": "markdown",
   "id": "1d90274a",
   "metadata": {},
   "source": [
    "1. What is multithreading in python? why is it used? Name the module used to handle threads in python"
   ]
  },
  {
   "cell_type": "markdown",
   "id": "417e8475",
   "metadata": {},
   "source": [
    "Multithreading in Python refers to the ability of a program to run multiple threads within the same process."
   ]
  },
  {
   "cell_type": "markdown",
   "id": "48e47439",
   "metadata": {},
   "source": [
    "Multithreading is used when a program needs to perform multiple tasks concurrently or when a single task can be divided into smaller sub-tasks that can be executed independently."
   ]
  },
  {
   "cell_type": "markdown",
   "id": "22acc071",
   "metadata": {},
   "source": [
    "The \"threading\" module is used to handle threads in Python."
   ]
  },
  {
   "cell_type": "markdown",
   "id": "028dbad8",
   "metadata": {},
   "source": [
    "2.why threading module used? rite the use of the following functions\n",
    " 1. activeCount()\n",
    " 2.currentThread()\n",
    " 3.enumerate()"
   ]
  },
  {
   "cell_type": "markdown",
   "id": "49fb00e0",
   "metadata": {},
   "source": [
    "The threading module is used in Python to create and manage threads. "
   ]
  },
  {
   "cell_type": "markdown",
   "id": "46169df0",
   "metadata": {},
   "source": [
    "activeCount(): This function returns the number of thread objects that are currently active.\n"
   ]
  },
  {
   "cell_type": "markdown",
   "id": "7bfa4097",
   "metadata": {},
   "source": [
    "currentThread(): This function returns a reference to the current thread object.\n"
   ]
  },
  {
   "cell_type": "markdown",
   "id": "417175d1",
   "metadata": {},
   "source": [
    "enumerate(): This function returns a list of all thread objects that are currently active"
   ]
  },
  {
   "cell_type": "markdown",
   "id": "5788adbe",
   "metadata": {},
   "source": [
    "3.Explain the following functions\n",
    "1. run()\n",
    "2. start()\n",
    "3. join()\n",
    "4. isAlive()"
   ]
  },
  {
   "cell_type": "markdown",
   "id": "ce7f37fd",
   "metadata": {},
   "source": [
    "run(): This function is the entry point for a thread's activity"
   ]
  },
  {
   "cell_type": "markdown",
   "id": "b578a577",
   "metadata": {},
   "source": [
    "start(): This function starts a thread's activity"
   ]
  },
  {
   "cell_type": "markdown",
   "id": "aaca1dba",
   "metadata": {},
   "source": [
    "join(): This function waits for a thread to complete its execution"
   ]
  },
  {
   "cell_type": "markdown",
   "id": "a013cfda",
   "metadata": {},
   "source": [
    "isAlive(): This function returns a Boolean value indicating whether a thread is alive or not."
   ]
  },
  {
   "cell_type": "markdown",
   "id": "b691103b",
   "metadata": {},
   "source": [
    "4.write a python program to create two threads. Thread one must print the list of squares and thread\n",
    "two must print the list of cubes"
   ]
  },
  {
   "cell_type": "code",
   "execution_count": 4,
   "id": "a903c086",
   "metadata": {},
   "outputs": [
    {
     "name": "stdout",
     "output_type": "stream",
     "text": [
      "Squares:\n",
      "1\n",
      "4\n",
      "9\n",
      "16\n",
      "25\n",
      "Cubes: \n",
      "1\n",
      "8\n",
      "27\n",
      "64\n",
      "125\n"
     ]
    }
   ],
   "source": [
    "import threading\n",
    "\n",
    "def squares(n):\n",
    "    print('Squares:')\n",
    "    for i in range(1,n+1):\n",
    "        print(i**2)\n",
    "        \n",
    "def cubes(n):\n",
    "    print(\"Cubes: \")\n",
    "    for i in range(1,n+1):\n",
    "        print(i**3)\n",
    " \n",
    "t1 = threading.Thread(target=squares,args=(5,))\n",
    "t2 = threading.Thread(target=cubes,args=(5,))\n",
    "t1.start()\n",
    "t2.start()\n",
    "t1.join()\n",
    "t2.join()"
   ]
  },
  {
   "cell_type": "markdown",
   "id": "91b923a2",
   "metadata": {},
   "source": [
    "5.State advantages and disadvantages of multithreading"
   ]
  },
  {
   "cell_type": "markdown",
   "id": "40673d81",
   "metadata": {},
   "source": [
    "Advantages:\n",
    "\n",
    "Increased throughput: By executing multiple threads in parallel, multithreading can improve the overall throughput of a system. This is especially true for systems that perform I/O or other blocking operations, where one thread can be waiting for an operation to complete while another thread performs useful work."
   ]
  },
  {
   "cell_type": "markdown",
   "id": "0cdb0a38",
   "metadata": {},
   "source": [
    "Resource sharing: Multithreading can enable multiple threads to share resources such as memory, files, and network connections. This can reduce the overhead of creating and managing multiple processes, which can be more resource-intensive."
   ]
  },
  {
   "cell_type": "markdown",
   "id": "dc0db571",
   "metadata": {},
   "source": [
    "Disadvantages:\n",
    "\n",
    "Increased complexity: Multithreaded programs are generally more complex than single-threaded programs, due to the need to coordinate the execution of multiple threads and manage shared resources."
   ]
  },
  {
   "cell_type": "markdown",
   "id": "3785cce8",
   "metadata": {},
   "source": [
    "Race conditions and deadlocks: Multithreading can introduce race conditions and deadlocks, where two or more threads access shared resources in a way that leads to unexpected behavior or a system lock-up."
   ]
  },
  {
   "cell_type": "markdown",
   "id": "f64cbd9c",
   "metadata": {},
   "source": [
    "6. Explain deadlocks and race conditions."
   ]
  },
  {
   "cell_type": "markdown",
   "id": "e74ebb8f",
   "metadata": {},
   "source": [
    "A deadlock occurs when two or more threads are blocked, each waiting for a resource that another thread holds. This can occur when multiple threads try to acquire the same resources in a different order, leading to a situation where each thread is waiting for another thread to release a resource before it can proceed. Deadlocks can lead to a program becoming unresponsive or hanging indefinitely, and can be difficult to detect and debug.\n"
   ]
  },
  {
   "cell_type": "markdown",
   "id": "cd304fd7",
   "metadata": {},
   "source": [
    "A race condition occurs when the behavior of a program depends on the order or timing of operations performed by multiple threads. For example, if two threads modify the same shared variable simultaneously, the final value of the variable will depend on the order in which the threads execute. Race conditions can lead to incorrect or unpredictable behavior, such as crashes, incorrect results, or data corruption."
   ]
  },
  {
   "cell_type": "code",
   "execution_count": null,
   "id": "562c396a",
   "metadata": {},
   "outputs": [],
   "source": []
  }
 ],
 "metadata": {
  "kernelspec": {
   "display_name": "Python 3 (ipykernel)",
   "language": "python",
   "name": "python3"
  },
  "language_info": {
   "codemirror_mode": {
    "name": "ipython",
    "version": 3
   },
   "file_extension": ".py",
   "mimetype": "text/x-python",
   "name": "python",
   "nbconvert_exporter": "python",
   "pygments_lexer": "ipython3",
   "version": "3.8.10"
  }
 },
 "nbformat": 4,
 "nbformat_minor": 5
}
