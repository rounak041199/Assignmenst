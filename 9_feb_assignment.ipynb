{
 "cells": [
  {
   "cell_type": "markdown",
   "id": "ace630cd",
   "metadata": {},
   "source": [
    "Q1. Create a vehicle class with an init method having instance variables as name_of_vehicle, max_speed\n",
    "and average_of_vehicle."
   ]
  },
  {
   "cell_type": "code",
   "execution_count": 31,
   "id": "8aedc9d5",
   "metadata": {},
   "outputs": [],
   "source": [
    "class vehicle:\n",
    "    def __init__(self,name_of_vehicle,max_speed,average_of_vehicle):\n",
    "        self.name_of_vehicle    = name_of_vehicle\n",
    "        self.max_speed          = max_speed\n",
    "        self.average_of_vehicle = average_of_vehicle"
   ]
  },
  {
   "cell_type": "code",
   "execution_count": 33,
   "id": "c3cf8956",
   "metadata": {},
   "outputs": [
    {
     "data": {
      "text/plain": [
       "'BMW'"
      ]
     },
     "execution_count": 33,
     "metadata": {},
     "output_type": "execute_result"
    }
   ],
   "source": [
    "bike = vehicle(\"BMW\",\"200\",\"12\")\n",
    "bike.name_of_vehicle"
   ]
  },
  {
   "cell_type": "code",
   "execution_count": 34,
   "id": "e687f356",
   "metadata": {},
   "outputs": [
    {
     "data": {
      "text/plain": [
       "'12'"
      ]
     },
     "execution_count": 34,
     "metadata": {},
     "output_type": "execute_result"
    }
   ],
   "source": [
    "bike.average_of_vehicle"
   ]
  },
  {
   "cell_type": "code",
   "execution_count": 35,
   "id": "2ecf0c3d",
   "metadata": {},
   "outputs": [
    {
     "data": {
      "text/plain": [
       "'200'"
      ]
     },
     "execution_count": 35,
     "metadata": {},
     "output_type": "execute_result"
    }
   ],
   "source": [
    "bike.max_speed"
   ]
  },
  {
   "cell_type": "code",
   "execution_count": 36,
   "id": "f4ea271d",
   "metadata": {},
   "outputs": [
    {
     "data": {
      "text/plain": [
       "'BMW'"
      ]
     },
     "execution_count": 36,
     "metadata": {},
     "output_type": "execute_result"
    }
   ],
   "source": [
    "bike.name_of_vehicle"
   ]
  },
  {
   "cell_type": "markdown",
   "id": "c7d63c9a",
   "metadata": {},
   "source": [
    "Q2. Create a child class car from the vehicle class created in Que 1, which will inherit the vehicle class.\n",
    "Create a method named seating_capacity which takes capacity as an argument and returns the name of\n",
    "the vehicle and its seating capacity."
   ]
  },
  {
   "cell_type": "code",
   "execution_count": 51,
   "id": "83db6c52",
   "metadata": {},
   "outputs": [],
   "source": [
    "class car(vehicle):\n",
    "    def __init__(self,name_of_vehicle,max_speed,average_of_vehicle,seating_capacity):\n",
    "        super().__init__(name_of_vehicle,max_speed,average_of_vehicle)\n",
    "        self.seating_capacity = seating_capacity\n",
    "        print (self.name_of_vehicle,self.seating_capacity)"
   ]
  },
  {
   "cell_type": "code",
   "execution_count": 52,
   "id": "f9dcbd75",
   "metadata": {},
   "outputs": [
    {
     "name": "stdout",
     "output_type": "stream",
     "text": [
      "volkswagen 5\n"
     ]
    }
   ],
   "source": [
    "sedan = car(\"volkswagen\",200,12,5)"
   ]
  },
  {
   "cell_type": "markdown",
   "id": "88e6e1dc",
   "metadata": {},
   "source": [
    "Q3. What is multiple inheritance? Write a python code to demonstrate multiple inheritance."
   ]
  },
  {
   "cell_type": "markdown",
   "id": "9d87f87e",
   "metadata": {},
   "source": [
    "Multiple inheritance is a feature of object-oriented programming languages that allows a single class to inherit attributes and methods from multiple parent classes."
   ]
  },
  {
   "cell_type": "markdown",
   "id": "b6d9b56b",
   "metadata": {},
   "source": [
    "Example:"
   ]
  },
  {
   "cell_type": "code",
   "execution_count": 53,
   "id": "64bb945d",
   "metadata": {},
   "outputs": [],
   "source": [
    "class class1:\n",
    "    def about_me1(self):\n",
    "        print(\"Hii!!My name is Rounak\")"
   ]
  },
  {
   "cell_type": "code",
   "execution_count": 54,
   "id": "cd2d5134",
   "metadata": {},
   "outputs": [],
   "source": [
    "class class2:\n",
    "    def about_me2(self):\n",
    "        print(\"I am a Software Engineer\")"
   ]
  },
  {
   "cell_type": "code",
   "execution_count": 55,
   "id": "e93d8b02",
   "metadata": {},
   "outputs": [],
   "source": [
    "class tell_me(class1,class2):\n",
    "    pass"
   ]
  },
  {
   "cell_type": "code",
   "execution_count": 58,
   "id": "25f161d4",
   "metadata": {},
   "outputs": [],
   "source": [
    "name = tell_me()"
   ]
  },
  {
   "cell_type": "code",
   "execution_count": 60,
   "id": "15fc9bae",
   "metadata": {},
   "outputs": [
    {
     "name": "stdout",
     "output_type": "stream",
     "text": [
      "Hii!!My name is Rounak\n"
     ]
    }
   ],
   "source": [
    "name.about_me1()"
   ]
  },
  {
   "cell_type": "code",
   "execution_count": 61,
   "id": "8ce12ed1",
   "metadata": {},
   "outputs": [
    {
     "name": "stdout",
     "output_type": "stream",
     "text": [
      "I am a Software Engineer\n"
     ]
    }
   ],
   "source": [
    "name.about_me2()"
   ]
  },
  {
   "cell_type": "markdown",
   "id": "dd7b5c10",
   "metadata": {},
   "source": [
    "Q4. What are getter and setter in python? Create a class and create a getter and a setter method in this\n",
    "class."
   ]
  },
  {
   "cell_type": "markdown",
   "id": "e1d347cb",
   "metadata": {},
   "source": [
    "Getter methods are used to retrieve the value of an attribute, while setter methods are used to set or update the value of an attribute."
   ]
  },
  {
   "cell_type": "code",
   "execution_count": 87,
   "id": "b1c4a24e",
   "metadata": {},
   "outputs": [],
   "source": [
    "class employees:\n",
    "    def __init__(self,name,age):\n",
    "        self.name = name \n",
    "        self.age = age\n",
    "    def get_name(self):\n",
    "        return self.name    \n",
    "    def set_name(self,name):\n",
    "        self.name = name\n",
    "    def get_age(self):\n",
    "        return self.age\n",
    "    def set_age(self,age):\n",
    "        self.age = age\n",
    "   "
   ]
  },
  {
   "cell_type": "code",
   "execution_count": 88,
   "id": "9b295c22",
   "metadata": {},
   "outputs": [],
   "source": [
    "employee1 = employees(\"Roni\",22)"
   ]
  },
  {
   "cell_type": "code",
   "execution_count": 89,
   "id": "e46bc45c",
   "metadata": {},
   "outputs": [
    {
     "data": {
      "text/plain": [
       "'Roni'"
      ]
     },
     "execution_count": 89,
     "metadata": {},
     "output_type": "execute_result"
    }
   ],
   "source": [
    "employee1.get_name()"
   ]
  },
  {
   "cell_type": "code",
   "execution_count": 90,
   "id": "39d0d815",
   "metadata": {},
   "outputs": [],
   "source": [
    "employee1.set_name(\"Rounak\")"
   ]
  },
  {
   "cell_type": "code",
   "execution_count": 91,
   "id": "1fa286c4",
   "metadata": {},
   "outputs": [
    {
     "data": {
      "text/plain": [
       "'Rounak'"
      ]
     },
     "execution_count": 91,
     "metadata": {},
     "output_type": "execute_result"
    }
   ],
   "source": [
    "employee1.get_name()"
   ]
  },
  {
   "cell_type": "code",
   "execution_count": 92,
   "id": "e17660c9",
   "metadata": {},
   "outputs": [],
   "source": [
    "employee1.set_age(30)"
   ]
  },
  {
   "cell_type": "code",
   "execution_count": 93,
   "id": "d2d5dab2",
   "metadata": {},
   "outputs": [
    {
     "data": {
      "text/plain": [
       "30"
      ]
     },
     "execution_count": 93,
     "metadata": {},
     "output_type": "execute_result"
    }
   ],
   "source": [
    "employee1.get_age()"
   ]
  },
  {
   "cell_type": "markdown",
   "id": "c2b86d51",
   "metadata": {},
   "source": [
    "Q5.What is method overriding in python? Write a python code to demonstrate method overriding."
   ]
  },
  {
   "cell_type": "markdown",
   "id": "70399488",
   "metadata": {},
   "source": [
    "Method overriding is a feature in Object-Oriented Programming (OOP) where a subclass provides a new implementation for a method that is already defined in its superclass."
   ]
  },
  {
   "cell_type": "markdown",
   "id": "28185672",
   "metadata": {},
   "source": [
    "Example:"
   ]
  },
  {
   "cell_type": "code",
   "execution_count": 94,
   "id": "7d30f712",
   "metadata": {},
   "outputs": [],
   "source": [
    "class car1:\n",
    "    def car_name(self):\n",
    "        print(\"Toyota\")\n",
    "class car2(car1):\n",
    "    def car_name(self):\n",
    "        print(\"Volkswagen\")"
   ]
  },
  {
   "cell_type": "code",
   "execution_count": 95,
   "id": "cdb8d746",
   "metadata": {},
   "outputs": [
    {
     "name": "stdout",
     "output_type": "stream",
     "text": [
      "Toyota\n"
     ]
    }
   ],
   "source": [
    "car1_obj = car1()\n",
    "car1_obj.car_name()"
   ]
  },
  {
   "cell_type": "code",
   "execution_count": 96,
   "id": "be148179",
   "metadata": {},
   "outputs": [
    {
     "name": "stdout",
     "output_type": "stream",
     "text": [
      "Volkswagen\n"
     ]
    }
   ],
   "source": [
    "car2_obj = car2()\n",
    "car2_obj.car_name()"
   ]
  },
  {
   "cell_type": "markdown",
   "id": "22b93f04",
   "metadata": {},
   "source": [
    "Here class car1 and class car2 have same finction car_name.But due to overriding car2 class override the method of it's parent class car1"
   ]
  }
 ],
 "metadata": {
  "kernelspec": {
   "display_name": "Python 3 (ipykernel)",
   "language": "python",
   "name": "python3"
  },
  "language_info": {
   "codemirror_mode": {
    "name": "ipython",
    "version": 3
   },
   "file_extension": ".py",
   "mimetype": "text/x-python",
   "name": "python",
   "nbconvert_exporter": "python",
   "pygments_lexer": "ipython3",
   "version": "3.8.10"
  }
 },
 "nbformat": 4,
 "nbformat_minor": 5
}
