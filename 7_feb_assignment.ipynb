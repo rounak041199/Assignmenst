{
 "cells": [
  {
   "cell_type": "markdown",
   "id": "3696186d",
   "metadata": {},
   "source": [
    "Q1.You are writing code for a company. The requirement of the company is that you create a python\n",
    "function that will check whether the password entered by the user is correct or not. The function should\n",
    "take the password as input and return the string “Valid Password” if the entered password follows the\n",
    "below-given password guidelines else it should return “Invalid Password”.\n",
    "Note: 1. The Password should contain at least two uppercase letters and at least two lowercase letters.\n",
    "2. The Password should contain at least a number and three special characters.\n",
    "3. The length of the password should be 10 characters long."
   ]
  },
  {
   "cell_type": "code",
   "execution_count": 15,
   "id": "c75153cd",
   "metadata": {},
   "outputs": [],
   "source": [
    "import re\n",
    "\n",
    "def check_password(password):\n",
    "    if len(password) != 10:\n",
    "        return \"Invalid Password\"\n",
    "    uppercase_char_count = len(re.findall(r'[A-Z]',password))\n",
    "    if uppercase_char_count <2:\n",
    "        return \"Invalid Password\"\n",
    "    lowercase_char_count = len(re.findall(r'[a-z]',password))\n",
    "    if lowercase_char_count<2:\n",
    "        return \"Invalid Password\"\n",
    "    if not any(char.isdigit() for char in password):\n",
    "        return \"Invalid Password\"\n",
    "    special_char_count = len(re.findall(r'[!@#$%^&*(){}|,<>?]',password))\n",
    "    if special_char_count <3:\n",
    "        return \"Invalid Password\"\n",
    "    return \"Valid Password\"\n",
    "                                      "
   ]
  },
  {
   "cell_type": "code",
   "execution_count": 24,
   "id": "cd3cc6d4",
   "metadata": {},
   "outputs": [
    {
     "data": {
      "text/plain": [
       "'Valid Password'"
      ]
     },
     "execution_count": 24,
     "metadata": {},
     "output_type": "execute_result"
    }
   ],
   "source": [
    "password = \"AAAA7@@#eq\"\n",
    "check_password(password)"
   ]
  },
  {
   "cell_type": "markdown",
   "id": "5d33ae6a",
   "metadata": {},
   "source": [
    "Q2. Solve the below-given questions using at least one of the following:\n",
    "1. Lambda functioJ\n",
    "2. Filter functioJ\n",
    "3. Zap functioJ\n",
    "4. List ComprehensioI\n",
    "1 Check if the string starts with a particular letter\n",
    "2 Check if the string is numeric\n",
    "3 Sort a list of tuples having fruit names and their quantity. [(\"mango\",99),(\"orange\",80), (\"grapes\", 1000)-\n",
    "4 Find the squares of numbers from 1 to 10\n",
    "5 Find the cube root of numbers from 1 to 10\n",
    "6 Check if a given number is even\n",
    "7 Filter odd numbers from the given list.\n",
    "[1,2,3,4,5,6,7,8,9,10-\n",
    "8 Sort a list of integers into positive and negative integers lists.\n",
    "[1,2,3,4,5,6,-1,-2,-3,-4,-5,0]"
   ]
  },
  {
   "cell_type": "markdown",
   "id": "0ca18b7d",
   "metadata": {},
   "source": [
    "Check if the string starts with a particular letterY"
   ]
  },
  {
   "cell_type": "code",
   "execution_count": 27,
   "id": "36eaa6a4",
   "metadata": {},
   "outputs": [
    {
     "data": {
      "text/plain": [
       "False"
      ]
     },
     "execution_count": 27,
     "metadata": {},
     "output_type": "execute_result"
    }
   ],
   "source": [
    "string = \"Rounak\"\n",
    "result = string.startswith(\"R\")\n",
    "result"
   ]
  },
  {
   "cell_type": "markdown",
   "id": "8c9263c8",
   "metadata": {},
   "source": [
    "Check if the string is numeric"
   ]
  },
  {
   "cell_type": "code",
   "execution_count": 29,
   "id": "23a7245e",
   "metadata": {},
   "outputs": [
    {
     "data": {
      "text/plain": [
       "True"
      ]
     },
     "execution_count": 29,
     "metadata": {},
     "output_type": "execute_result"
    }
   ],
   "source": [
    "string = \"12345\"\n",
    "result = string.isnumeric()\n",
    "result"
   ]
  },
  {
   "cell_type": "markdown",
   "id": "54c95cd9",
   "metadata": {},
   "source": [
    "Sort a list of tuples having fruit names and their quantity. [(\"mango\",99),(\"orange\",80), (\"grapes\", 1000)"
   ]
  },
  {
   "cell_type": "code",
   "execution_count": 31,
   "id": "7f539d42",
   "metadata": {},
   "outputs": [
    {
     "data": {
      "text/plain": [
       "[('orange', 80), ('mango', 99), ('grapes', 1000)]"
      ]
     },
     "execution_count": 31,
     "metadata": {},
     "output_type": "execute_result"
    }
   ],
   "source": [
    "l = [(\"mango\",99),(\"orange\",80), (\"grapes\", 1000)]\n",
    "sorted_l = sorted(l,key = lambda x:x[1])\n",
    "sorted_l"
   ]
  },
  {
   "cell_type": "markdown",
   "id": "4861e4fc",
   "metadata": {},
   "source": [
    "Find the squares of numbers from 1 to 10"
   ]
  },
  {
   "cell_type": "code",
   "execution_count": 33,
   "id": "f075cacc",
   "metadata": {},
   "outputs": [
    {
     "data": {
      "text/plain": [
       "[1, 4, 9, 16, 25, 36, 49, 64, 81, 100]"
      ]
     },
     "execution_count": 33,
     "metadata": {},
     "output_type": "execute_result"
    }
   ],
   "source": [
    "result = list(map(lambda x:x**2,range(1,11)))\n",
    "result"
   ]
  },
  {
   "cell_type": "markdown",
   "id": "df94a891",
   "metadata": {},
   "source": [
    " Find the cube root of numbers from 1 to 10"
   ]
  },
  {
   "cell_type": "code",
   "execution_count": 34,
   "id": "cab54fe8",
   "metadata": {},
   "outputs": [
    {
     "data": {
      "text/plain": [
       "[1.0,\n",
       " 1.2599210498948732,\n",
       " 1.4422495703074083,\n",
       " 1.5874010519681994,\n",
       " 1.7099759466766968,\n",
       " 1.8171205928321397,\n",
       " 1.912931182772389,\n",
       " 2.0,\n",
       " 2.080083823051904,\n",
       " 2.154434690031884]"
      ]
     },
     "execution_count": 34,
     "metadata": {},
     "output_type": "execute_result"
    }
   ],
   "source": [
    "import math \n",
    "result = list(map(lambda x:math.pow(x,1/3),range(1,11)))\n",
    "result"
   ]
  },
  {
   "cell_type": "markdown",
   "id": "844bb1b4",
   "metadata": {},
   "source": [
    "Check if a given number is even"
   ]
  },
  {
   "cell_type": "code",
   "execution_count": 38,
   "id": "eea7c41b",
   "metadata": {},
   "outputs": [
    {
     "data": {
      "text/plain": [
       "False"
      ]
     },
     "execution_count": 38,
     "metadata": {},
     "output_type": "execute_result"
    }
   ],
   "source": [
    "number = 5\n",
    "result = True if number%2==0 else False\n",
    "result"
   ]
  },
  {
   "cell_type": "markdown",
   "id": "fcb1de01",
   "metadata": {},
   "source": [
    "Filter odd numbers from the given list.\n",
    "[1,2,3,4,5,6,7,8,9,10]"
   ]
  },
  {
   "cell_type": "code",
   "execution_count": 40,
   "id": "14baccdc",
   "metadata": {},
   "outputs": [
    {
     "data": {
      "text/plain": [
       "[1, 3, 5, 7, 9]"
      ]
     },
     "execution_count": 40,
     "metadata": {},
     "output_type": "execute_result"
    }
   ],
   "source": [
    "numbers =  [1,2,3,4,5,6,7,8,9,10]\n",
    "result = list(filter(lambda x:x%2!=0 , numbers))\n",
    "result"
   ]
  },
  {
   "cell_type": "markdown",
   "id": "095f2057",
   "metadata": {},
   "source": [
    "Sort a list of integers into positive and negative integers lists.\n",
    "[1,2,3,4,5,6,-1,-2,-3,-4,-5,0]"
   ]
  },
  {
   "cell_type": "code",
   "execution_count": 43,
   "id": "a7ddbedd",
   "metadata": {},
   "outputs": [
    {
     "data": {
      "text/plain": [
       "[1, 2, 3, 4, 5, 6]"
      ]
     },
     "execution_count": 43,
     "metadata": {},
     "output_type": "execute_result"
    }
   ],
   "source": [
    "integers_list = [1,2,3,4,5,6,-1,-2,-3,-4,-5,0]\n",
    "positive_list = list(filter(lambda x:x>0,integers_list))\n",
    "negative_list = list(filter(lambda x:x<0,integers_list))\n",
    "positive_list"
   ]
  },
  {
   "cell_type": "code",
   "execution_count": 44,
   "id": "6c5592f9",
   "metadata": {},
   "outputs": [
    {
     "data": {
      "text/plain": [
       "[-1, -2, -3, -4, -5]"
      ]
     },
     "execution_count": 44,
     "metadata": {},
     "output_type": "execute_result"
    }
   ],
   "source": [
    "negative_list"
   ]
  },
  {
   "cell_type": "code",
   "execution_count": null,
   "id": "a658be2c",
   "metadata": {},
   "outputs": [],
   "source": []
  }
 ],
 "metadata": {
  "kernelspec": {
   "display_name": "Python 3 (ipykernel)",
   "language": "python",
   "name": "python3"
  },
  "language_info": {
   "codemirror_mode": {
    "name": "ipython",
    "version": 3
   },
   "file_extension": ".py",
   "mimetype": "text/x-python",
   "name": "python",
   "nbconvert_exporter": "python",
   "pygments_lexer": "ipython3",
   "version": "3.8.10"
  }
 },
 "nbformat": 4,
 "nbformat_minor": 5
}
