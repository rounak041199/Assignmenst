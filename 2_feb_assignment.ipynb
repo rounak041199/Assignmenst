{
 "cells": [
  {
   "cell_type": "markdown",
   "id": "3dd9dc46",
   "metadata": {},
   "source": [
    "Q1. What are the characteristics of the tuples? Is tuple immutable?"
   ]
  },
  {
   "cell_type": "markdown",
   "id": "813a77da",
   "metadata": {},
   "source": [
    " Tuples are ordered, immutable, heterogeneous, iterable, and hashable data structures in Python.\n",
    " "
   ]
  },
  {
   "cell_type": "markdown",
   "id": "96df3cb6",
   "metadata": {},
   "source": [
    "Yes , Tuple is immutable"
   ]
  },
  {
   "cell_type": "markdown",
   "id": "68390986",
   "metadata": {},
   "source": [
    "Q2. What are the two tuple methods in python? Give an example of each method. Give a reason why\n",
    "tuples have only two in-built methods as compared to Lists."
   ]
  },
  {
   "cell_type": "markdown",
   "id": "fb661611",
   "metadata": {},
   "source": [
    "There are two tuple methods:\n",
    "1.__count__()\n"
   ]
  },
  {
   "cell_type": "markdown",
   "id": "5f476422",
   "metadata": {},
   "source": [
    "Example:"
   ]
  },
  {
   "cell_type": "code",
   "execution_count": 1,
   "id": "10a43aca",
   "metadata": {},
   "outputs": [
    {
     "name": "stdout",
     "output_type": "stream",
     "text": [
      "3\n"
     ]
    }
   ],
   "source": [
    "l = [1,2,3,3,1,1,6]\n",
    "print(l.count(1))"
   ]
  },
  {
   "cell_type": "markdown",
   "id": "a227523c",
   "metadata": {},
   "source": [
    "2.__index__()"
   ]
  },
  {
   "cell_type": "markdown",
   "id": "4782b90e",
   "metadata": {},
   "source": [
    "Example:"
   ]
  },
  {
   "cell_type": "code",
   "execution_count": 4,
   "id": "03a4f7b3",
   "metadata": {},
   "outputs": [
    {
     "name": "stdout",
     "output_type": "stream",
     "text": [
      "6\n"
     ]
    }
   ],
   "source": [
    "l = [1,2,3,3,1,1,7]\n",
    "print(l.index(7))"
   ]
  },
  {
   "cell_type": "markdown",
   "id": "3071eaab",
   "metadata": {},
   "source": [
    "Tuples have only two in-built methods as compared to lists because tuples are immutable, and their primary use is for grouping elements together."
   ]
  },
  {
   "cell_type": "markdown",
   "id": "3ea7366e",
   "metadata": {},
   "source": [
    "Q3. Which collection datatypes in python do not allow duplicate items? Write a code using a set to remove\n",
    "duplicates from the given list.\n",
    "List = [1, 1, 1, 2, 1, 3, 1, 4, 2, 1, 2, 2, 2, 3, 2, 4, 3, 1, 3, 2, 3, 3, 3, 4, 4, 1, 4, 2, 4, 3, 4, 4]"
   ]
  },
  {
   "cell_type": "code",
   "execution_count": 6,
   "id": "f4628c75",
   "metadata": {},
   "outputs": [
    {
     "data": {
      "text/plain": [
       "[1, 2, 3, 4]"
      ]
     },
     "execution_count": 6,
     "metadata": {},
     "output_type": "execute_result"
    }
   ],
   "source": [
    "l = [1, 1, 1, 2, 1, 3, 1, 4, 2, 1, 2, 2, 2, 3, 2, 4, 3, 1, 3, 2, 3, 3, 3, 4, 4, 1, 4, 2, 4, 3, 4, 4]\n",
    "list(set(l))"
   ]
  },
  {
   "cell_type": "markdown",
   "id": "14b0ffe8",
   "metadata": {},
   "source": [
    "Q4. Explain the difference between the union() and update() methods for a set. Give an example of\n",
    "each method."
   ]
  },
  {
   "cell_type": "markdown",
   "id": "03af3305",
   "metadata": {},
   "source": [
    "The  union() method returns a new set that is the combination of two sets, while the update() method modifies an existing set by adding elements from another set to it."
   ]
  },
  {
   "cell_type": "markdown",
   "id": "b6b9a9bc",
   "metadata": {},
   "source": [
    "Example of __union__() method:"
   ]
  },
  {
   "cell_type": "code",
   "execution_count": 8,
   "id": "420d39c4",
   "metadata": {},
   "outputs": [
    {
     "name": "stdout",
     "output_type": "stream",
     "text": [
      "{1, 2, 3, 4, 5, 6}\n"
     ]
    }
   ],
   "source": [
    "set1 = {1, 2, 3, 4}\n",
    "set2 = {3, 4, 5, 6}\n",
    "set3 = set1.union(set2)\n",
    "print(set3)"
   ]
  },
  {
   "cell_type": "markdown",
   "id": "5b73f0a2",
   "metadata": {},
   "source": [
    "Example of __update__() method:"
   ]
  },
  {
   "cell_type": "code",
   "execution_count": 9,
   "id": "f0351a77",
   "metadata": {},
   "outputs": [
    {
     "name": "stdout",
     "output_type": "stream",
     "text": [
      "{1, 2, 3, 4, 5, 6}\n"
     ]
    }
   ],
   "source": [
    "set1 = {1, 2, 3, 4}\n",
    "set2 = {3, 4, 5, 6}\n",
    "set1.update(set2)\n",
    "print(set1) "
   ]
  },
  {
   "cell_type": "markdown",
   "id": "f672e060",
   "metadata": {},
   "source": [
    "Q5. What is a dictionary? Give an example. Also, state whether a dictionary is ordered or unordered."
   ]
  },
  {
   "cell_type": "markdown",
   "id": "f913253a",
   "metadata": {},
   "source": [
    "A dictionary is a collection of key-value pairs."
   ]
  },
  {
   "cell_type": "markdown",
   "id": "6936839b",
   "metadata": {},
   "source": [
    "In Python, dictionaries are unordered."
   ]
  },
  {
   "cell_type": "markdown",
   "id": "8d2c60e8",
   "metadata": {},
   "source": [
    "Example:"
   ]
  },
  {
   "cell_type": "code",
   "execution_count": 14,
   "id": "d14c5d30",
   "metadata": {},
   "outputs": [
    {
     "data": {
      "text/plain": [
       "{'Rounak': '123456', 'Ghosh': '7890'}"
      ]
     },
     "execution_count": 14,
     "metadata": {},
     "output_type": "execute_result"
    }
   ],
   "source": [
    "d ={\n",
    "    \"Rounak\" : \"12345\",\n",
    "    \"Rounak\" : \"123456\",\n",
    "    \"Ghosh\"  : \"7890\"\n",
    "}\n",
    "d"
   ]
  },
  {
   "cell_type": "markdown",
   "id": "89c89c4c",
   "metadata": {},
   "source": [
    "Q6. Can we create a nested dictionary? If so, please give an example by creating a simple one-level\n",
    "nested dictionary."
   ]
  },
  {
   "cell_type": "markdown",
   "id": "490b7abb",
   "metadata": {},
   "source": [
    "Yes, you can create a nested dictionary."
   ]
  },
  {
   "cell_type": "code",
   "execution_count": 18,
   "id": "f1942425",
   "metadata": {},
   "outputs": [
    {
     "data": {
      "text/plain": [
       "{'name1': {'name1': 'Rounak', 'age': 23},\n",
       " 'name2': {'name2': 'Roni', 'age': 23}}"
      ]
     },
     "execution_count": 18,
     "metadata": {},
     "output_type": "execute_result"
    }
   ],
   "source": [
    "names ={\n",
    "    \"name1\":{\n",
    "        \"name1\":\"Rounak\",\n",
    "        \"age\" : 23\n",
    "    },\n",
    "    \n",
    "    \"name2\":{\n",
    "        \"name2\":\"Roni\",\n",
    "        \"age\" : 23\n",
    "    }\n",
    "}\n",
    "names"
   ]
  },
  {
   "cell_type": "markdown",
   "id": "5ec9b751",
   "metadata": {},
   "source": [
    "Q7. Using setdefault() method, create key named topics in the given dictionary and also add the value of\n",
    "the key as this list ['Python', 'Machine Learning’, 'Deep Learning']\n",
    "dict1 = {'language' : 'Python', 'course': 'Data Science Masters'}"
   ]
  },
  {
   "cell_type": "code",
   "execution_count": 19,
   "id": "31144c31",
   "metadata": {},
   "outputs": [
    {
     "name": "stdout",
     "output_type": "stream",
     "text": [
      "{'language': 'Python', 'course': 'Data Science Masters', 'topics': ['Python', 'Machine Learning', 'Deep Learning']}\n"
     ]
    }
   ],
   "source": [
    "dict1 = {'language' : 'Python', 'course': 'Data Science Masters'}\n",
    "\n",
    "dict1.setdefault(\"topics\", [\"Python\", \"Machine Learning\", \"Deep Learning\"])\n",
    "\n",
    "print(dict1)"
   ]
  },
  {
   "cell_type": "markdown",
   "id": "a716c267",
   "metadata": {},
   "source": [
    "Q8. What are the three view objects in dictionaries? Use the three in-built methods in python to display\n",
    "these three view objects for the given dictionary.\n",
    "dict1 = {'Sport': 'Cricket' , 'Teams': ['India', 'Australia', 'England', 'South Africa', 'Sri Lanka', 'New Zealand']}"
   ]
  },
  {
   "cell_type": "markdown",
   "id": "a0e3d81b",
   "metadata": {},
   "source": [
    "In Python, dictionaries have three view objects: keys, values, and items."
   ]
  },
  {
   "cell_type": "code",
   "execution_count": 25,
   "id": "af319c04",
   "metadata": {},
   "outputs": [
    {
     "name": "stdout",
     "output_type": "stream",
     "text": [
      "dict_keys(['Sport', 'Teams'])\n",
      "dict_values(['Cricket', ['India', 'Australia', 'England', 'South Africa', 'Sri Lanka', 'New Zealand']])\n",
      "dict_items([('Sport', 'Cricket'), ('Teams', ['India', 'Australia', 'England', 'South Africa', 'Sri Lanka', 'New Zealand'])])\n"
     ]
    }
   ],
   "source": [
    "dict1 = {'Sport': 'Cricket' , 'Teams': ['India', 'Australia', 'England', 'South Africa', 'Sri Lanka', 'New Zealand']}\n",
    "\n",
    "all_keys = dict1.keys()\n",
    "print(all_keys)\n",
    "\n",
    "all_values = dict1.values()\n",
    "print(all_values)\n",
    "\n",
    "all_items = dict1.items()\n",
    "print(all_items)\n"
   ]
  }
 ],
 "metadata": {
  "kernelspec": {
   "display_name": "Python 3 (ipykernel)",
   "language": "python",
   "name": "python3"
  },
  "language_info": {
   "codemirror_mode": {
    "name": "ipython",
    "version": 3
   },
   "file_extension": ".py",
   "mimetype": "text/x-python",
   "name": "python",
   "nbconvert_exporter": "python",
   "pygments_lexer": "ipython3",
   "version": "3.8.10"
  }
 },
 "nbformat": 4,
 "nbformat_minor": 5
}
