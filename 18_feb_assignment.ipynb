{
 "cells": [
  {
   "cell_type": "markdown",
   "id": "afa4c5b7",
   "metadata": {},
   "source": [
    "Q1. What is an API? Give an example, where an API is used in real life."
   ]
  },
  {
   "cell_type": "markdown",
   "id": "f948137b",
   "metadata": {},
   "source": [
    "An API, or Application Programming Interface, is a set of protocols, routines, and tools for building software applications. APIs define how software components should interact, enabling communication and data exchange between different software applications.\n",
    "\n"
   ]
  },
  {
   "cell_type": "markdown",
   "id": "3260e34b",
   "metadata": {},
   "source": [
    "Example of API usage can be seen with weather forecast applications. These applications often use APIs provided by weather services to gather data on current and forecasted weather conditions, which is then displayed within the application."
   ]
  },
  {
   "cell_type": "markdown",
   "id": "a98c29a8",
   "metadata": {},
   "source": [
    "Q2. Give advantages and disadvantages of using API."
   ]
  },
  {
   "cell_type": "markdown",
   "id": "ab4fcdb8",
   "metadata": {},
   "source": [
    "Advantages:"
   ]
  },
  {
   "cell_type": "markdown",
   "id": "37d8d9af",
   "metadata": {},
   "source": [
    "API can be used by multiple application which save code duplication and time.API can be used to a complex application.It is very  helpfull for scalability of a software."
   ]
  },
  {
   "cell_type": "markdown",
   "id": "435f6c9f",
   "metadata": {},
   "source": [
    "Disadvantages:"
   ]
  },
  {
   "cell_type": "markdown",
   "id": "42a7f0e1",
   "metadata": {},
   "source": [
    "API can create security risks if they are not prorperly secured and authenticate.API may come with a cost for using it .So building a application using an API can add to cost and maintaining an application."
   ]
  },
  {
   "cell_type": "markdown",
   "id": "5f98816b",
   "metadata": {},
   "source": [
    "Q3. What is a Web API? Differentiate between API and Web API."
   ]
  },
  {
   "cell_type": "markdown",
   "id": "9d961afb",
   "metadata": {},
   "source": [
    "A Web API, or Web Application Programming Interface, is an API that is specifically designed to be used over the web. It provides a way for different applications to communicate and exchange data over HTTP."
   ]
  },
  {
   "cell_type": "markdown",
   "id": "f82e57ac",
   "metadata": {},
   "source": [
    "Web APIs are a specific type of API that are designed for use over the web, whereas APIs are a more general term that can refer to any type of interface that enables software components to interact with each other."
   ]
  },
  {
   "cell_type": "markdown",
   "id": "095002a9",
   "metadata": {},
   "source": [
    "Web APIs are accessed using HTTP requests, whereas APIs can use a variety of protocols for communication, such as TCP/IP or UDP.\n",
    "\n"
   ]
  },
  {
   "cell_type": "markdown",
   "id": "b785b022",
   "metadata": {},
   "source": [
    "Q4. Explain REST and SOAP Architecture. Mention shortcomings of SOAP."
   ]
  },
  {
   "cell_type": "markdown",
   "id": "e0113b51",
   "metadata": {},
   "source": [
    "REST, or Representational State Transfer, is an architectural style for designing APIs that is built on top of HTTP. REST APIs are designed to be simple, lightweight, and scalable. They make use of HTTP methods (GET, POST, PUT, DELETE) to perform actions on resources, and use URLs to represent those resources. REST APIs are stateless, meaning that each request from a client to a server must contain all the necessary information to fulfill the request, and no client context is stored on the server between requests."
   ]
  },
  {
   "cell_type": "markdown",
   "id": "2214ec85",
   "metadata": {},
   "source": [
    "SOAP, or Simple Object Access Protocol, is an architectural style that uses XML to define a message format for exchanging data between applications. SOAP APIs are designed to be robust and secure, but they can be more complex and heavyweight compared to REST APIs. SOAP APIs use a contract-based model, meaning that the interface for the API is defined in a separate file (WSDL) that clients use to generate code and consume the API."
   ]
  },
  {
   "cell_type": "markdown",
   "id": "875ee921",
   "metadata": {},
   "source": [
    "SOAP APIs can be complex to implement and use."
   ]
  },
  {
   "cell_type": "markdown",
   "id": "18bbe8d4",
   "metadata": {},
   "source": [
    "SOAP APIs can be slower than REST APIs due to the additional overhead of the XML-based message format."
   ]
  },
  {
   "cell_type": "markdown",
   "id": "c8e236a3",
   "metadata": {},
   "source": [
    "Q5. Differentiate between REST and SOAP."
   ]
  },
  {
   "cell_type": "markdown",
   "id": "f7e5d808",
   "metadata": {},
   "source": [
    "REST uses HTTP (Hypertext Transfer Protocol) for communication, while SOAP can use a variety of different protocols, including HTTP, SMTP (Simple Mail Transfer Protocol), and TCP (Transmission Control Protocol)."
   ]
  },
  {
   "cell_type": "markdown",
   "id": "09fc1ddb",
   "metadata": {},
   "source": [
    "REST uses HTTP (Hypertext Transfer Protocol) for communication, while SOAP can use a variety of different protocols, including HTTP, SMTP (Simple Mail Transfer Protocol), and TCP (Transmission Control Protocol)."
   ]
  },
  {
   "cell_type": "markdown",
   "id": "16c577d2",
   "metadata": {},
   "source": [
    "REST APIs can make use of caching to improve performance, while SOAP APIs do not support caching."
   ]
  },
  {
   "cell_type": "markdown",
   "id": "704c4249",
   "metadata": {},
   "source": [
    "REST APIs are generally faster and more efficient than SOAP APIs because they use a simpler message format and require less processing overhead"
   ]
  },
  {
   "cell_type": "code",
   "execution_count": null,
   "id": "dd8ce447",
   "metadata": {},
   "outputs": [],
   "source": []
  }
 ],
 "metadata": {
  "kernelspec": {
   "display_name": "Python 3 (ipykernel)",
   "language": "python",
   "name": "python3"
  },
  "language_info": {
   "codemirror_mode": {
    "name": "ipython",
    "version": 3
   },
   "file_extension": ".py",
   "mimetype": "text/x-python",
   "name": "python",
   "nbconvert_exporter": "python",
   "pygments_lexer": "ipython3",
   "version": "3.8.10"
  }
 },
 "nbformat": 4,
 "nbformat_minor": 5
}
